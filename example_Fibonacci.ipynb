{
 "cells": [
  {
   "cell_type": "markdown",
   "id": "8261ccb9",
   "metadata": {},
   "source": [
    "## Fibonacci Sequence Example\n",
    "\n",
    "The Fibonacci sequence $F_n$ satisfies a recurrence relation \n",
    "\n",
    "$F_{n+2} = F_{n+1}-F_{n}=0$ with $F_0=0$, $F_1=1$. \n",
    "\n",
    "In this note, we shall prove that $\\sum_{n=1}^m \\frac{F_n}{F_{n+1}F_{n+2}} = -\\frac{1}{F_{m+2}} + 1$ \n",
    "\n",
    "#### 1. Import the package"
   ]
  },
  {
   "cell_type": "code",
   "execution_count": 1,
   "id": "69ff0982",
   "metadata": {},
   "outputs": [],
   "source": [
    "# pip install git+https://github.com/PhilippNuspl/rec_sequences.git"
   ]
  },
  {
   "cell_type": "code",
   "execution_count": 2,
   "id": "aced7cfe",
   "metadata": {},
   "outputs": [],
   "source": [
    "from rec_sequences.IntegerRelations import *"
   ]
  },
  {
   "cell_type": "code",
   "execution_count": 3,
   "id": "de65af19",
   "metadata": {},
   "outputs": [],
   "source": [
    "load('difference_field.sage')"
   ]
  },
  {
   "cell_type": "markdown",
   "id": "d57d932a",
   "metadata": {},
   "source": [
    "#### 2. Construct a difference field\n",
    "\n",
    "Set the base field $\\mathbb{K}= \\mathbb{Q}(b)$ with $b=\\sqrt 5$"
   ]
  },
  {
   "cell_type": "code",
   "execution_count": 4,
   "id": "878bebb8",
   "metadata": {},
   "outputs": [],
   "source": [
    "t = polygen(QQ, 't')\n",
    "# b = QQbar(sqrt(5)), K = QQ(sqrt(5)) is the base field\n",
    "K.<b> = NumberField(t^2 - 5, embedding=QQbar(sqrt(5))) "
   ]
  },
  {
   "cell_type": "markdown",
   "id": "cc7b075f",
   "metadata": {},
   "source": [
    "The difference field $( \\mathbb{K}(\\alpha,\\beta), \\sigma) $ is defined by \n",
    "\n",
    "$\\sigma(\\alpha,\\beta) = (\\alpha, \\beta) \\begin{pmatrix}0&1\\\\1&1\\end{pmatrix}$, i.e. $\\sigma(\\alpha)=\\beta, \\sigma(\\beta)=\\alpha+\\beta$.\n",
    "\n",
    "Then $F_n$, $F_{n+1}$ are represented by $\\alpha,\\beta$."
   ]
  },
  {
   "cell_type": "code",
   "execution_count": 5,
   "id": "d2c2a72c",
   "metadata": {},
   "outputs": [],
   "source": [
    "R.<alpha,beta> =  PolynomialRing(K)\n",
    "S = R.fraction_field()\n",
    "A = matrix(K, [[0,1],[1,1]]) \n",
    "c = 1"
   ]
  },
  {
   "cell_type": "markdown",
   "id": "e65c995a",
   "metadata": {},
   "source": [
    "#### 3. Solve the summation problem in the difference field\n",
    "\n",
    "The summand $\\frac{F_n}{F_{n+1}F_{n+2}}$ is represented by $F = \\frac{\\alpha}{\\beta(\\alpha+\\beta)}$.\n",
    "\n",
    "Find $G\\in \\mathbb{K}(\\alpha,\\beta)$ such that $F = \\sigma(G) - G$."
   ]
  },
  {
   "cell_type": "code",
   "execution_count": 6,
   "id": "c248b1d9",
   "metadata": {},
   "outputs": [
    {
     "data": {
      "text/plain": [
       "(True, ((1/2*b - 5/2))/((-1/2*b + 5/2)*beta))"
      ]
     },
     "execution_count": 6,
     "metadata": {},
     "output_type": "execute_result"
    }
   ],
   "source": [
    "F = alpha/(beta*(alpha+beta)) \n",
    "pair = is_summable2(F, [alpha,beta], A, c); pair"
   ]
  },
  {
   "cell_type": "markdown",
   "id": "7a84d8ec",
   "metadata": {},
   "source": [
    "Verify that $F = \\sigma(G) - G$ and $G = -\\frac{1}{\\beta}$"
   ]
  },
  {
   "cell_type": "code",
   "execution_count": 7,
   "id": "0eaa4543",
   "metadata": {},
   "outputs": [
    {
     "name": "stdout",
     "output_type": "stream",
     "text": [
      "((1/2*b - 5/2))/((-1/2*b + 5/2)*beta)\n"
     ]
    },
    {
     "data": {
      "text/plain": [
       "True"
      ]
     },
     "execution_count": 7,
     "metadata": {},
     "output_type": "execute_result"
    }
   ],
   "source": [
    "G = pair[1];print(G)\n",
    "F == c*sigma(G, [alpha,beta], A) - G "
   ]
  },
  {
   "cell_type": "code",
   "execution_count": 8,
   "id": "cf3c7e15",
   "metadata": {},
   "outputs": [
    {
     "data": {
      "text/plain": [
       "True"
      ]
     },
     "execution_count": 8,
     "metadata": {},
     "output_type": "execute_result"
    }
   ],
   "source": [
    "G == -1/beta"
   ]
  },
  {
   "cell_type": "markdown",
   "id": "1a504c7c",
   "metadata": {},
   "source": [
    "#### 4. Prove the identity $\\sum_{n=1}^m \\frac{F_n}{F_{n+1}F_{n+2}} = -\\frac{1}{F_{m+2}}+1$ \n",
    "\n",
    "\n",
    "The element $G=-\\frac{1}{\\beta}$ corresponds to the sequence $G_n = -\\frac{1}{F_{n+1}}$.\n",
    "\n",
    "By is_summable2, $\\frac{\\alpha}{\\beta(\\alpha+\\beta)}=\\sigma(G) - G$, so $\\frac{F_n}{F_{n+1}F_{n+2}} = G_{n+1} - G_n$,\n",
    "\n",
    "Therefore $\\sum_{n=1}^m \\frac{F_n}{F_{n+1}F_{n+2}} = \\sum_{n=1}^m G_{n+1} - G_n = G_{m+1} - G_1 = -\\frac{1}{F_{m+2}} + 1$"
   ]
  },
  {
   "cell_type": "markdown",
   "id": "2a3e06c7",
   "metadata": {},
   "source": [
    "#### 5. More details"
   ]
  },
  {
   "cell_type": "code",
   "execution_count": 9,
   "id": "e1cc4674",
   "metadata": {},
   "outputs": [
    {
     "name": "stdout",
     "output_type": "stream",
     "text": [
      "Difference isomorphism defined by:\n",
      "[-1/10*b + 1/2  1/10*b + 1/2]\n",
      "[        1/5*b        -1/5*b] \n",
      "\n",
      "Diagonal of Jordan normal form of the input matrix:\n",
      "[1/2*b + 1/2, -1/2*b + 1/2] \n",
      "\n",
      "After the difference isomorphism, consider the summability of \n",
      "((-1/10*b + 1/2)*alpha + (1/10*b + 1/2)*beta)/((1/10*b + 1/10)*alpha^2 - 1/5*alpha*beta + (-1/10*b + 1/10)*beta^2) \n",
      "\n",
      "Summbale with a certificate:\n",
      "((1/2*b - 5/2))/((1/2*b - 1/2)*alpha + (-1/2*b + 1/2)*beta) \n",
      "\n"
     ]
    },
    {
     "data": {
      "text/plain": [
       "(True, ((1/2*b - 5/2))/((-1/2*b + 5/2)*beta))"
      ]
     },
     "execution_count": 9,
     "metadata": {},
     "output_type": "execute_result"
    }
   ],
   "source": [
    "pair2 = is_summable2(F, [alpha,beta], A, c, info = True); pair2"
   ]
  },
  {
   "cell_type": "markdown",
   "id": "88889bb9",
   "metadata": {},
   "source": [
    "5.1 Let $(\\mathbb{K}(\\alpha,\\beta),\\tau)$ be another difference field, where $\\tau(\\alpha, \\beta) = (\\alpha, \\beta) \\text{diag}(\\lambda_1,\\lambda_2)$.\n",
    "\n",
    "A difference isomorphism from $(\\mathbb{K}(\\alpha,\\beta),\\sigma)$ to $(\\mathbb{K}(\\alpha,\\beta),\\tau)$ is given by\n",
    "\n",
    "$(\\alpha, \\beta)\\to (\\alpha, \\beta) Q$, where $Q$ is a matrix, see the following code. \n",
    "\n",
    "Then $F(\\alpha,\\beta)$ is $\\sigma$-summable if and only if $F((\\alpha,\\beta)Q)$ is $\\tau$-summable, \n",
    "\n",
    "where $\\sigma(F(\\alpha,\\beta)) = F((\\alpha,\\beta)A)$ and $\\tau(f(\\alpha,\\beta)) = f((\\alpha,\\beta)\\Lambda)$ \n"
   ]
  },
  {
   "cell_type": "code",
   "execution_count": 10,
   "id": "3b4c4774",
   "metadata": {},
   "outputs": [],
   "source": [
    "P, D = transition_matrix(A)\n",
    "Q = P.inverse()\n",
    "Lambda = D.diagonal() # D is the diagonalization of A"
   ]
  },
  {
   "cell_type": "markdown",
   "id": "bb5f0dc6",
   "metadata": {},
   "source": [
    "5.2 Let $F(\\alpha,\\beta) = \\frac{\\alpha}{\\beta(\\alpha+\\beta)}$ and $f(\\alpha,\\beta) = F((\\alpha,\\beta)Q)$.\n",
    "\n",
    "Find $g\\in \\mathbb{K}(\\alpha,\\beta)$ such that $f=\\tau(g)-g$.\n",
    "\n"
   ]
  },
  {
   "cell_type": "code",
   "execution_count": 11,
   "id": "4e75b2fd",
   "metadata": {},
   "outputs": [
    {
     "name": "stdout",
     "output_type": "stream",
     "text": [
      "(True, ((1/2*b - 5/2))/((1/2*b - 1/2)*alpha + (-1/2*b + 1/2)*beta))\n"
     ]
    },
    {
     "data": {
      "text/plain": [
       "True"
      ]
     },
     "execution_count": 11,
     "metadata": {},
     "output_type": "execute_result"
    }
   ],
   "source": [
    "f = transition_map(F, [alpha,beta], Q); f# f(x) = F(P*x)\n",
    "pair = is_summable(f, [alpha,beta], Lambda, c, info = True)\n",
    "g = pair[1];print(pair)\n",
    "f == c*sigma(g, [alpha,beta], Lambda) - g"
   ]
  },
  {
   "cell_type": "markdown",
   "id": "8d137d88",
   "metadata": {},
   "source": [
    "Then $G(\\alpha,\\beta) = g((\\alpha,\\beta)Q^{-1})$ satisfies $F=\\sigma(G)-G$"
   ]
  },
  {
   "cell_type": "code",
   "execution_count": 12,
   "id": "88b42e3b",
   "metadata": {},
   "outputs": [
    {
     "data": {
      "text/plain": [
       "True"
      ]
     },
     "execution_count": 12,
     "metadata": {},
     "output_type": "execute_result"
    }
   ],
   "source": [
    "G = transition_map(g, [alpha,beta], P)\n",
    "F == c*sigma(G, [alpha,beta], A) - G"
   ]
  }
 ],
 "metadata": {
  "kernelspec": {
   "display_name": "SageMath 10.0",
   "language": "sage",
   "name": "SageMath-10.0"
  },
  "language_info": {
   "codemirror_mode": {
    "name": "ipython",
    "version": 3
   },
   "file_extension": ".py",
   "mimetype": "text/x-python",
   "name": "python",
   "nbconvert_exporter": "python",
   "pygments_lexer": "ipython3",
   "version": "3.11.1"
  },
  "varInspector": {
   "cols": {
    "lenName": 16,
    "lenType": 16,
    "lenVar": 40
   },
   "kernels_config": {
    "python": {
     "delete_cmd_postfix": "",
     "delete_cmd_prefix": "del ",
     "library": "var_list.py",
     "varRefreshCmd": "print(var_dic_list())"
    },
    "r": {
     "delete_cmd_postfix": ") ",
     "delete_cmd_prefix": "rm(",
     "library": "var_list.r",
     "varRefreshCmd": "cat(var_dic_list()) "
    }
   },
   "types_to_exclude": [
    "module",
    "function",
    "builtin_function_or_method",
    "instance",
    "_Feature"
   ],
   "window_display": false
  }
 },
 "nbformat": 4,
 "nbformat_minor": 5
}
