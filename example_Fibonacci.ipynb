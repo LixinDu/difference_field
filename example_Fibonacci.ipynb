{
 "cells": [
  {
   "cell_type": "code",
   "execution_count": 1,
   "id": "12f99376",
   "metadata": {},
   "outputs": [],
   "source": [
    "# pip install --upgrade pip\n",
    "# pip install git+https://github.com/PhilippNuspl/rec_sequences.git"
   ]
  },
  {
   "cell_type": "code",
   "execution_count": 2,
   "id": "aced7cfe",
   "metadata": {},
   "outputs": [],
   "source": [
    "#from ore_algebra import *\n",
    "from rec_sequences.IntegerRelations import *"
   ]
  },
  {
   "cell_type": "code",
   "execution_count": 3,
   "id": "de65af19",
   "metadata": {},
   "outputs": [],
   "source": [
    "load('difference_field.sage')"
   ]
  },
  {
   "cell_type": "code",
   "execution_count": 4,
   "id": "878bebb8",
   "metadata": {},
   "outputs": [],
   "source": [
    "#### Consider the Fibonacci sequence a(n+2)-a(n+1)-a(n)=0 with a(0)=0, a(1)=1.\n",
    "t = polygen(QQ, 't')\n",
    "K.<b> = NumberField(t^2 - 5, embedding=QQbar(sqrt(5))) # b = QQbar(sqrt(5)), K = QQ(sqrt(5)) is the base field\n",
    "R.<x1,x2> =  PolynomialRing(K)\n",
    "S = R.fraction_field()"
   ]
  },
  {
   "cell_type": "code",
   "execution_count": 5,
   "id": "d2c2a72c",
   "metadata": {},
   "outputs": [],
   "source": [
    "A = matrix(K, [[0,1],[1,1]]) # consider the difference field (K(x1,x2), sigma), where sigma(f(x1,x2)) = f((x1,x2)*A) = f(x2,x1+x2)\n",
    "x = [x1,x2]\n",
    "c = 1"
   ]
  },
  {
   "cell_type": "code",
   "execution_count": 6,
   "id": "c248b1d9",
   "metadata": {},
   "outputs": [
    {
     "data": {
      "text/plain": [
       "(True, ((1/2*b - 5/2))/((-1/2*b + 5/2)*x2))"
      ]
     },
     "execution_count": 6,
     "metadata": {},
     "output_type": "execute_result"
    }
   ],
   "source": [
    "## Example 1: given F = x1/(x2*(x1+x2)), find one solution of c*sigma(G) - G = F, where sigma(f(x1,x2)) = f((x1,x2)A) = f(x2, x1+x2)\n",
    "F = x1/(x2*(x1+x2)) \n",
    "pair2 = is_summable2(F, x, A, c); pair2"
   ]
  },
  {
   "cell_type": "code",
   "execution_count": 7,
   "id": "0eaa4543",
   "metadata": {},
   "outputs": [
    {
     "data": {
      "text/plain": [
       "True"
      ]
     },
     "execution_count": 7,
     "metadata": {},
     "output_type": "execute_result"
    }
   ],
   "source": [
    "G = pair2[1]\n",
    "F == c*sigma(G, x, A) - G "
   ]
  },
  {
   "cell_type": "code",
   "execution_count": 8,
   "id": "6d55046d",
   "metadata": {},
   "outputs": [],
   "source": [
    "## Proof of the identity: \\sum_{n=1}^\\infty F_n/(F_{n+1}*F_{n+2} = 1\n",
    "# By is_summbale2, F_n/(F_{n+1}*F_{n+2} = G_{n+1} - G_n, where G_n = -1/F_{n+1}.\n",
    "# \\sum_{n=1}^\\infty F_n/(F_{n+1}*F_{n+2} = \\limit_{m -> \\infty} \\sum_{n=1}^\\m G_{n+1} - G_n = \\limit_{m-> infty} G_{m+1} - G_1 = 1"
   ]
  },
  {
   "cell_type": "code",
   "execution_count": 9,
   "id": "e1cc4674",
   "metadata": {},
   "outputs": [
    {
     "name": "stdout",
     "output_type": "stream",
     "text": [
      "Difference isomorphism defined by:\n",
      "[-1/10*b + 1/2  1/10*b + 1/2]\n",
      "[        1/5*b        -1/5*b]\n",
      "Diagonal of Jordan normal form of the input matrix:\n",
      "[1/2*b + 1/2, -1/2*b + 1/2]\n",
      "After the difference isomorphism, consider the summability of \n",
      "((-1/10*b + 1/2)*x1 + (1/10*b + 1/2)*x2)/((1/10*b + 1/10)*x1^2 - 1/5*x1*x2 + (-1/10*b + 1/10)*x2^2)\n",
      " Summbale with a certificate:\n",
      "((1/2*b - 5/2))/((1/2*b - 1/2)*x1 + (-1/2*b + 1/2)*x2)\n"
     ]
    },
    {
     "data": {
      "text/plain": [
       "(True, ((1/2*b - 5/2))/((-1/2*b + 5/2)*x2))"
      ]
     },
     "execution_count": 9,
     "metadata": {},
     "output_type": "execute_result"
    }
   ],
   "source": [
    "## more details for computing G\n",
    "pair2 = is_summable2(F, x, A, c, info = True); pair2"
   ]
  },
  {
   "cell_type": "code",
   "execution_count": 10,
   "id": "3b4c4774",
   "metadata": {},
   "outputs": [
    {
     "data": {
      "text/plain": [
       "((-1/10*b + 1/2)*x1 + (1/10*b + 1/2)*x2)/((1/10*b + 1/10)*x1^2 - 1/5*x1*x2 + (-1/10*b + 1/10)*x2^2)"
      ]
     },
     "execution_count": 10,
     "metadata": {},
     "output_type": "execute_result"
    }
   ],
   "source": [
    "P, D = transition_matrix(A)\n",
    "Q = P.inverse()\n",
    "a = D.diagonal() # D is the diagonalization of A\n",
    "f = transition_map(F, x, Q); f# f(x) = F(P*x)"
   ]
  },
  {
   "cell_type": "code",
   "execution_count": 11,
   "id": "4e75b2fd",
   "metadata": {},
   "outputs": [
    {
     "data": {
      "text/plain": [
       "(True, ((1/2*b - 5/2))/((1/2*b - 1/2)*x1 + (-1/2*b + 1/2)*x2))"
      ]
     },
     "execution_count": 11,
     "metadata": {},
     "output_type": "execute_result"
    }
   ],
   "source": [
    "## F(x) is sigma-summable if and only if f is tau-summable, \n",
    "## where sigma(F(x)) = F(x*A) and tau(f(x)) = f(x*D)\n",
    "pair = is_summable(f, x, a, c, info = True)\n",
    "g = pair[1];pair"
   ]
  },
  {
   "cell_type": "code",
   "execution_count": 12,
   "id": "88b42e3b",
   "metadata": {},
   "outputs": [
    {
     "data": {
      "text/plain": [
       "True"
      ]
     },
     "execution_count": 12,
     "metadata": {},
     "output_type": "execute_result"
    }
   ],
   "source": [
    "G = transition_map(g, x, P)\n",
    "G == pair2[1]"
   ]
  },
  {
   "cell_type": "code",
   "execution_count": 13,
   "id": "7a2888e9",
   "metadata": {},
   "outputs": [
    {
     "data": {
      "text/plain": [
       "-1*x1^2 + x1*x2"
      ]
     },
     "execution_count": 13,
     "metadata": {},
     "output_type": "execute_result"
    }
   ],
   "source": [
    "#### Example 2: an identity involving the Fibonacci sequence F_n\n",
    "#### sum_{k=1}^{n+1} F_k^2 = F_{n+1}*F_{n+2} \n",
    "## given F = x1^2, find one solution of sigma(G) - G = F\n",
    "F = x1^2\n",
    "pair2 = is_summable2(F, x, A, c)\n",
    "G = pair2[1];G\n",
    "## proof of the above identity:\n",
    "# G_k = - F_k^2 + F_k*F_{k+1}\n",
    "# G_{n+2} = -F_{n+2}^2 + F_{n+2}*F_{n+3} =  -F_{n+2}^2 + F_{n+2}* (F_{n+2} + F_{n+1}) = F_{n+1}*F_{n+2} \n",
    "# G_1 = -F_1^2 + F_1*F_2 = -1^2 +1*1 = 0\n",
    "# so sum_{k=1}^{n+1} F_k^2 = sum_{k=1}^{n+1} (G_{k+1} - G_k) = G_{n+2} - G_1 = F_{n+1}*F_{n+2} "
   ]
  },
  {
   "cell_type": "code",
   "execution_count": 14,
   "id": "d001f1e6",
   "metadata": {},
   "outputs": [
    {
     "name": "stdout",
     "output_type": "stream",
     "text": [
      "Difference isomorphism defined by:\n",
      "[-1/10*b + 1/2  1/10*b + 1/2]\n",
      "[        1/5*b        -1/5*b]\n",
      "Diagonal of Jordan normal form of the input matrix:\n",
      "[1/2*b + 1/2, -1/2*b + 1/2]\n",
      "After the difference isomorphism, consider the summability of \n",
      "((-1/10*b + 3/10)*x1^2 + 2/5*x1*x2 + (1/10*b + 3/10)*x2^2)/((1/10*b + 1/10)*x1^2 - 1/5*x1*x2 + (-1/10*b + 1/10)*x2^2)\n",
      " case 1:  -b - 2 is not  1 *tau-summable, where tau is represented by a = [1/2*b + 1/2]\n",
      " Not summable\n"
     ]
    },
    {
     "data": {
      "text/plain": [
       "False"
      ]
     },
     "execution_count": 14,
     "metadata": {},
     "output_type": "execute_result"
    }
   ],
   "source": [
    "## Example 3: non-summable case:\n",
    "F = x1^2/(x2*(x1+x2)) \n",
    "is_summable2(F, x, A, c, info = True)"
   ]
  },
  {
   "cell_type": "code",
   "execution_count": 15,
   "id": "98b3cf9a",
   "metadata": {},
   "outputs": [
    {
     "data": {
      "text/plain": [
       "((b*x1 + (1/2*b + 5/2)*x2)/((-b)*x2),\n",
       " ((-1/2*b - 5/2)*x1 + (1/2*b + 5/2)*x2)/((1/2*b + 5/2)*x1 + (1/2*b + 5/2)*x2))"
      ]
     },
     "execution_count": 15,
     "metadata": {},
     "output_type": "execute_result"
    }
   ],
   "source": [
    "## F can be decomposed as F = c * sigma(G) - G + R\n",
    "G, R = additive_decomposition2(F, x, A, c);G,R"
   ]
  },
  {
   "cell_type": "code",
   "execution_count": null,
   "id": "3817c5db",
   "metadata": {},
   "outputs": [],
   "source": []
  },
  {
   "cell_type": "code",
   "execution_count": null,
   "id": "cadb061a",
   "metadata": {},
   "outputs": [],
   "source": []
  }
 ],
 "metadata": {
  "kernelspec": {
   "display_name": "SageMath 10.0",
   "language": "sage",
   "name": "SageMath-10.0"
  },
  "language_info": {
   "codemirror_mode": {
    "name": "ipython",
    "version": 3
   },
   "file_extension": ".py",
   "mimetype": "text/x-python",
   "name": "python",
   "nbconvert_exporter": "python",
   "pygments_lexer": "ipython3",
   "version": "3.11.1"
  },
  "varInspector": {
   "cols": {
    "lenName": 16,
    "lenType": 16,
    "lenVar": 40
   },
   "kernels_config": {
    "python": {
     "delete_cmd_postfix": "",
     "delete_cmd_prefix": "del ",
     "library": "var_list.py",
     "varRefreshCmd": "print(var_dic_list())"
    },
    "r": {
     "delete_cmd_postfix": ") ",
     "delete_cmd_prefix": "rm(",
     "library": "var_list.r",
     "varRefreshCmd": "cat(var_dic_list()) "
    }
   },
   "types_to_exclude": [
    "module",
    "function",
    "builtin_function_or_method",
    "instance",
    "_Feature"
   ],
   "window_display": false
  }
 },
 "nbformat": 4,
 "nbformat_minor": 5
}
