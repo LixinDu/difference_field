{
 "cells": [
  {
   "cell_type": "code",
   "execution_count": 1,
   "id": "12f99376",
   "metadata": {},
   "outputs": [],
   "source": [
    "# pip install --upgrade pip\n",
    "# pip install git+https://github.com/PhilippNuspl/rec_sequences.git"
   ]
  },
  {
   "cell_type": "code",
   "execution_count": 2,
   "id": "aced7cfe",
   "metadata": {},
   "outputs": [],
   "source": [
    "#from ore_algebra import *\n",
    "from rec_sequences.IntegerRelations import *"
   ]
  },
  {
   "cell_type": "code",
   "execution_count": 3,
   "id": "de65af19",
   "metadata": {},
   "outputs": [],
   "source": [
    "load('difference_field.sage')"
   ]
  },
  {
   "cell_type": "code",
   "execution_count": 4,
   "id": "ab132617",
   "metadata": {},
   "outputs": [
    {
     "data": {
      "text/plain": [
       "[-0.618033988749895?, 1.618033988749895?]"
      ]
     },
     "execution_count": 4,
     "metadata": {},
     "output_type": "execute_result"
    }
   ],
   "source": [
    "#R.<t> = PolynomialRing(QQbar)\n",
    "N.<t> = QQ[]\n",
    "r =t^2 - t - 1\n",
    "L=r.roots(ring=QQbar)\n",
    "a = [i[0] for i in L]\n",
    "#IntegerRelations.integer_relations(a)\n",
    "a"
   ]
  },
  {
   "cell_type": "code",
   "execution_count": 5,
   "id": "ed974dca",
   "metadata": {},
   "outputs": [
    {
     "data": {
      "text/plain": [
       "Number Field in b with defining polynomial t^2 - t - 1"
      ]
     },
     "execution_count": 5,
     "metadata": {},
     "output_type": "execute_result"
    }
   ],
   "source": [
    "M = r.splitting_field('b');M"
   ]
  },
  {
   "cell_type": "code",
   "execution_count": 6,
   "id": "08e10bf8",
   "metadata": {},
   "outputs": [
    {
     "data": {
      "text/plain": [
       "[t == -1/2*sqrt(5) + 1/2, t == 1/2*sqrt(5) + 1/2]"
      ]
     },
     "execution_count": 6,
     "metadata": {},
     "output_type": "execute_result"
    }
   ],
   "source": [
    "t = var('t')\n",
    "sol = solve(t^2-t-1,t,algorithm='sympy');sol"
   ]
  },
  {
   "cell_type": "code",
   "execution_count": 7,
   "id": "f00f6b0e",
   "metadata": {},
   "outputs": [
    {
     "name": "stdout",
     "output_type": "stream",
     "text": [
      "True\n",
      "True\n"
     ]
    },
    {
     "data": {
      "text/plain": [
       "[-2 -2]"
      ]
     },
     "execution_count": 7,
     "metadata": {},
     "output_type": "execute_result"
    }
   ],
   "source": [
    "lambda_1 = QQbar((1+sqrt(5))/2)\n",
    "lambda_2 = QQbar((1-sqrt(5))/2)\n",
    "print(a[0] == lambda_2)\n",
    "print(a[1] == lambda_1)\n",
    "IntegerRelations.integer_relations([lambda_1, lambda_2])"
   ]
  },
  {
   "cell_type": "code",
   "execution_count": 8,
   "id": "fb1d7301",
   "metadata": {},
   "outputs": [],
   "source": [
    "N.<t> = QQ[]\n",
    "K.<b> = NumberField(t^2 - 5, embedding=QQbar(sqrt(5))) ## b=QQbar(sqrt(5))"
   ]
  },
  {
   "cell_type": "code",
   "execution_count": 9,
   "id": "e82baf31",
   "metadata": {},
   "outputs": [
    {
     "name": "stdout",
     "output_type": "stream",
     "text": [
      "True\n",
      "True\n",
      "True\n"
     ]
    }
   ],
   "source": [
    "print(b == QQbar(sqrt(5)))\n",
    "print(lambda_1 == 1/2 + b/2)\n",
    "print(lambda_2 == 1/2 - b/2)"
   ]
  },
  {
   "cell_type": "code",
   "execution_count": 10,
   "id": "d73389d0",
   "metadata": {},
   "outputs": [],
   "source": [
    "def transition_matrix(A):\n",
    "    \"\"\"given a map sigma on the multivariate rational function field K(x) defined by simga(f(x)) = f(x*A),\n",
    "    where K is a number field, x = [x_1, ..., x_n], A = (a_{i,j}) is a matrix in K^{n*n}, compute two matrices P, D \n",
    "    such that \n",
    "    \n",
    "        f(x) is sigma-summable in K(x) if and only if f(P*x) is tau-summable in K(x), \n",
    "    \n",
    "    where tau(f(x)) = (f(x*D)) and P, D are matirices in K^{n*n} such that A*(P^T) = (P^T)*D and D is digonal.\"\"\"\n",
    "    D, Q = A.eigenmatrix_right()\n",
    "    P = Q.transpose()\n",
    "    return P, D"
   ]
  },
  {
   "cell_type": "code",
   "execution_count": 11,
   "id": "bc2bcd56",
   "metadata": {},
   "outputs": [
    {
     "name": "stdout",
     "output_type": "stream",
     "text": [
      "[0 1]\n",
      "[1 1]\n"
     ]
    },
    {
     "data": {
      "text/plain": [
       "(\n",
       "[           1  1/2*b + 1/2]  [ 1/2*b + 1/2            0]\n",
       "[           1 -1/2*b + 1/2], [           0 -1/2*b + 1/2]\n",
       ")"
      ]
     },
     "execution_count": 11,
     "metadata": {},
     "output_type": "execute_result"
    }
   ],
   "source": [
    "t = polygen(QQ, 't')\n",
    "K.<b> = NumberField(t^2 - 5, embedding=QQbar(sqrt(5)))\n",
    "A = matrix(K, [[0,1],[1,1]])\n",
    "print(A)\n",
    "P, D = transition_matrix(A); P,D"
   ]
  },
  {
   "cell_type": "code",
   "execution_count": 12,
   "id": "89927f1d",
   "metadata": {},
   "outputs": [],
   "source": [
    "def transition_map(f, P, x):\n",
    "    \"\"\"give a multivariate rational function f(x) and a matrix P, compute f(P*x)\"\"\"\n",
    "    self, xx = make_in_multi_fraction_field(f,x, var_name = True)\n",
    "    y = P*vector(xx)\n",
    "    return self.subs({xx[i]: y[i] for i in range(len(x))}) "
   ]
  },
  {
   "cell_type": "code",
   "execution_count": 13,
   "id": "36500fc5",
   "metadata": {},
   "outputs": [
    {
     "name": "stdout",
     "output_type": "stream",
     "text": [
      "[-1/10*b + 1/2  1/10*b + 1/2]\n",
      "[        1/5*b        -1/5*b]\n",
      "(-1/10*b + 1/2)*x1 + (1/10*b + 1/2)*x2\n",
      "(1/5*b)*x1 + (-1/5*b)*x2\n"
     ]
    }
   ],
   "source": [
    "Q = P.inverse()\n",
    "print(Q)\n",
    "R.<x1,x2> =  PolynomialRing(K)\n",
    "S = R.fraction_field()\n",
    "x = [x1,x2]\n",
    "f = x1\n",
    "print(transition_map(f, Q, x))\n",
    "f = x2\n",
    "print(transition_map(f, Q, x))\n"
   ]
  },
  {
   "cell_type": "code",
   "execution_count": 14,
   "id": "91ff2215",
   "metadata": {},
   "outputs": [
    {
     "name": "stdout",
     "output_type": "stream",
     "text": [
      "[0 1]\n",
      "[1 1]\n",
      "[ 1/2*b + 1/2            0]\n",
      "[           0 -1/2*b + 1/2]\n"
     ]
    },
    {
     "data": {
      "text/plain": [
       "((-1/10*b + 1/2)*x1 + (1/10*b + 1/2)*x2)/((1/10*b + 1/10)*x1^2 - 1/5*x1*x2 + (-1/10*b + 1/10)*x2^2)"
      ]
     },
     "execution_count": 14,
     "metadata": {},
     "output_type": "execute_result"
    }
   ],
   "source": [
    "#### Example 3.3 for Fibonacci sequences, in Hou, Wei, 2023 paper\n",
    "#### Rational Solutions to the First Order Difference Equations in the Bivariate Difference Field\n",
    "## define the difference automorphism and prepare the input\n",
    "t = polygen(QQ, 't')\n",
    "K.<b> = NumberField(t^2 - 5, embedding=QQbar(sqrt(5))) # b = QQbar(sqrt(5)), K = QQ(sqrt(5))\n",
    "A = matrix(K, [[0,1],[1,1]])\n",
    "P, D = transition_matrix(A) # D is the diagonalization of A\n",
    "print(A)\n",
    "print(D)\n",
    "Q = P.inverse()\n",
    "R.<x1,x2> =  PolynomialRing(K)\n",
    "S = R.fraction_field()\n",
    "x = [x1,x2]\n",
    "F = x1/(x2*(x1+x2))\n",
    "f = transition_map(F, Q, x); f # f(x) = F(P*x)"
   ]
  },
  {
   "cell_type": "code",
   "execution_count": 15,
   "id": "aca3004c",
   "metadata": {},
   "outputs": [
    {
     "data": {
      "text/plain": [
       "(True, ((1/2*b - 5/2))/((1/2*b - 1/2)*x1 + (-1/2*b + 1/2)*x2))"
      ]
     },
     "execution_count": 15,
     "metadata": {},
     "output_type": "execute_result"
    }
   ],
   "source": [
    "## decide whether f(x1,x2) is tau-summable in K(x1,x2),\n",
    "## where tau(f(x1,x2)) = f(a_1*x1, a_2*x_2) and a = [a_1,a_2] = [1/2 + sqrt(5)/2,1/2 - sqrt(5)/2]\n",
    "a = D.diagonal()\n",
    "c = 1\n",
    "pair = is_summable(f, x, a, c);pair"
   ]
  },
  {
   "cell_type": "code",
   "execution_count": 16,
   "id": "37ec5139",
   "metadata": {},
   "outputs": [
    {
     "data": {
      "text/plain": [
       "True"
      ]
     },
     "execution_count": 16,
     "metadata": {},
     "output_type": "execute_result"
    }
   ],
   "source": [
    "pair = is_summable(f, x, a, c)\n",
    "g = pair[1]\n",
    "f == c*sigma(g, x, a) - g  \n",
    "## sigma(g, x, a) = g(a_1*x_1,..., a_n*x_n) if a = [a_1,...,a_n], x = [x_1,..., x_n]\n",
    "## tau(g, x, a, i) = g(a_1^i*x_1,..., a_n^i*x_n) if a = [a_1,...,a_n], x = [x_1,..., x_n]"
   ]
  },
  {
   "cell_type": "code",
   "execution_count": 17,
   "id": "9bdd0c72",
   "metadata": {},
   "outputs": [
    {
     "data": {
      "text/plain": [
       "((1/2*b - 5/2))/((-1/2*b + 5/2)*x2)"
      ]
     },
     "execution_count": 17,
     "metadata": {},
     "output_type": "execute_result"
    }
   ],
   "source": [
    "G = transition_map(g, P, x) # G(x) = g(P*x)\n",
    "G"
   ]
  },
  {
   "cell_type": "code",
   "execution_count": 18,
   "id": "e4210652",
   "metadata": {},
   "outputs": [
    {
     "data": {
      "text/plain": [
       "-1"
      ]
     },
     "execution_count": 18,
     "metadata": {},
     "output_type": "execute_result"
    }
   ],
   "source": [
    "#simplify((b - 5)/(-b + 5))\n",
    "simplify((1/2*b - 5/2))/((-1/2*b + 5/2))"
   ]
  },
  {
   "cell_type": "code",
   "execution_count": 19,
   "id": "73846f85",
   "metadata": {},
   "outputs": [
    {
     "name": "stdout",
     "output_type": "stream",
     "text": [
      "x= [x1, x2] a= [1/2*b + 1/2, -1/2*b + 1/2] c= 1\n",
      "integer_relation =  [-2 -2]\n",
      "h =  (-2*x2^2 + 1)/((-b - 1)*x2^2 + (6*b)*x2)\n",
      "f =  ((-1/10*b + 1/2)*x1 + (1/10*b + 1/2)*x2)/((1/10*b + 1/10)*x1^2 - 1/5*x1*x2 + (-1/10*b + 1/10)*x2^2)\n"
     ]
    }
   ],
   "source": [
    "#### test for bivariate rational functions: summable case\n",
    "## define the rational function field S = QQ(sqrt(5))(x1,x2)\n",
    "t = polygen(QQ, 't')\n",
    "K.<b> = NumberField(t^2 - 5, embedding=QQbar(sqrt(5)))\n",
    "R.<x1,x2> = PolynomialRing(K)\n",
    "x = [*list(R.gens())]\n",
    "S = R.fraction_field()\n",
    "## or define the rational function field S in the following way such that S= QQ(sqrt(5))(x1)(x2)\n",
    "# R.<x1> =  PolynomialRing(K)\n",
    "# T.<x2> = R.fraction_field()['x2']\n",
    "# x1,x2 = R.gen(),T.gen()\n",
    "# x = [x1, x2]\n",
    "# S = T.fraction_field()\n",
    "h = S.random_element(3, 3)\n",
    "# a = [0 for i in range(len(x))]\n",
    "# while 0 in a:\n",
    "#     a = [K.random_element() for i in range(len(x))]\n",
    "# c = 0\n",
    "# while c == 0:\n",
    "#     c = K.random_element()\n",
    "a = [1/2+1/2*b, 1/2-1/2*b]\n",
    "c = 1\n",
    "print(\"x=\", x, \"a=\", a, \"c=\",c)\n",
    "rel = IntegerRelations.integer_relations(a)\n",
    "print(\"integer_relation = \", rel)\n",
    "f = ((-1/10*b + 1/2)*x1 + (1/10*b + 1/2)*x2)/((1/10*b + 1/10)*x1^2 - 1/5*x1*x2 + (-1/10*b + 1/10)*x2^2)\n",
    "#f =S(c * sigma(h, x, a) - h)\n",
    "print(\"h = \", h)\n",
    "print(\"f = \",f)"
   ]
  },
  {
   "cell_type": "code",
   "execution_count": 20,
   "id": "dc5c3ad9",
   "metadata": {},
   "outputs": [
    {
     "name": "stdout",
     "output_type": "stream",
     "text": [
      "(True, ((1/2*b - 5/2))/((1/2*b - 1/2)*x1 + (-1/2*b + 1/2)*x2))\n"
     ]
    },
    {
     "data": {
      "text/plain": [
       "True"
      ]
     },
     "execution_count": 20,
     "metadata": {},
     "output_type": "execute_result"
    }
   ],
   "source": [
    "## check is_summable\n",
    "pair = is_summable(f, x, a, c)\n",
    "print(pair)\n",
    "g = pair[1]\n",
    "f == c*sigma(g, x, a) - g"
   ]
  },
  {
   "cell_type": "code",
   "execution_count": 21,
   "id": "9b13a095",
   "metadata": {},
   "outputs": [
    {
     "data": {
      "text/plain": [
       "([0, {x1 + (-1/2*b + 3/2)*x2: [[0, 1/2*b - 5/2, 1], [-1, -1/2*b + 5/2, 1]]}],\n",
       " {x1 + (-1/2*b + 3/2)*x2: [0, 1]})"
      ]
     },
     "execution_count": 21,
     "metadata": {},
     "output_type": "execute_result"
    }
   ],
   "source": [
    "L, Gp = orbital_partial_fraction(f,x2,x,a, group = True);L,Gp\n",
    "## delete x2"
   ]
  },
  {
   "cell_type": "code",
   "execution_count": 22,
   "id": "642944a9",
   "metadata": {},
   "outputs": [
    {
     "name": "stdout",
     "output_type": "stream",
     "text": [
      "True\n"
     ]
    },
    {
     "data": {
      "text/plain": [
       "(0,\n",
       " [((-3/2*b - 5/2)*x2 - b*x1)/(x2^2 + ((1/2*b + 1/2)*x1)*x2 + (-1/2*b - 3/2)*x1^2)])"
      ]
     },
     "execution_count": 22,
     "metadata": {},
     "output_type": "execute_result"
    }
   ],
   "source": [
    "## check orbital_partial_fraction\n",
    "whole, parts = from_list_to_partial_fraction(L,x,a)\n",
    "print(f == whole + sum(parts))\n",
    "whole, parts\n"
   ]
  },
  {
   "cell_type": "code",
   "execution_count": 23,
   "id": "ad7dc426",
   "metadata": {},
   "outputs": [
    {
     "data": {
      "text/plain": [
       "(((1/2*b - 5/2))/((1/2*b - 1/2)*x1 + (-1/2*b + 1/2)*x2), [])"
      ]
     },
     "execution_count": 23,
     "metadata": {},
     "output_type": "execute_result"
    }
   ],
   "source": [
    "g, r_list =reduction(L[1], x, a, c)\n",
    "g, r_list"
   ]
  },
  {
   "cell_type": "code",
   "execution_count": 24,
   "id": "bbc0328e",
   "metadata": {},
   "outputs": [
    {
     "name": "stdout",
     "output_type": "stream",
     "text": [
      "((1/2*b - 5/2))/((1/2*b - 1/2)*x1 + (-1/2*b + 1/2)*x2) 0\n"
     ]
    }
   ],
   "source": [
    "## check orbital_reduction\n",
    "r = 0\n",
    "for d, n, e in r_list:\n",
    "    r = r + n/d**e\n",
    "whole, parts = from_list_to_partial_fraction([0,L[1]],x,a)\n",
    "sum(parts) == c * sigma(g, x, a) - g + r\n",
    "print(g,r)"
   ]
  },
  {
   "cell_type": "code",
   "execution_count": 25,
   "id": "72b919b6",
   "metadata": {},
   "outputs": [
    {
     "name": "stdout",
     "output_type": "stream",
     "text": [
      "True\n"
     ]
    },
    {
     "data": {
      "text/plain": [
       "(((1/2*b - 5/2))/((1/2*b - 1/2)*x1 + (-1/2*b + 1/2)*x2), 0)"
      ]
     },
     "execution_count": 25,
     "metadata": {},
     "output_type": "execute_result"
    }
   ],
   "source": [
    "pair = additive_decomposition(f, x, a, c)\n",
    "print(pair[1] == 0)\n",
    "g = pair[0]\n",
    "r = pair[1]\n",
    "g,r"
   ]
  },
  {
   "cell_type": "code",
   "execution_count": 26,
   "id": "c26bfd5a",
   "metadata": {},
   "outputs": [
    {
     "data": {
      "text/plain": [
       "True"
      ]
     },
     "execution_count": 26,
     "metadata": {},
     "output_type": "execute_result"
    }
   ],
   "source": [
    "## check additive_decomposition\n",
    "f == c*sigma(g, x, a) - g + r"
   ]
  },
  {
   "cell_type": "code",
   "execution_count": 27,
   "id": "8b65728f",
   "metadata": {},
   "outputs": [
    {
     "name": "stdout",
     "output_type": "stream",
     "text": [
      "x= [x1, x2] a= [1/2*b + 1/2, -1/2*b + 1/2] c= 1\n",
      "integer_relation =  [-2 -2]\n",
      "h =  ((-4*b + 1)*x1^2*x2 + (b + 1)*x1*x2^2 + (2*b + 23)*x2^3 + (11*b + 1)*x1^2 + (b + 2)*x1)/((-2*b - 1)*x1^3 + (9*b - 1)*x2^3 + (b + 1)*x1*x2 + (3*b + 1)*x1 + (2*b - 2))\n",
      "u =  (-x1 + (b - 1))/((3*b + 2)*x1*x2 + 2)\n",
      "f =  ((-929/2*b - 2355/2)*x1^6*x2^2 + (131*b + 265)*x1^5*x2^3 + (1612*b + 2250)*x1^4*x2^4 + (1209*b - 875)*x1^3*x2^5 + (-58*b + 590)*x1^2*x2^6 + (-29*b - 62)*x1^7 + (388*b + 1106)*x1^6*x2 + (38*b + 472)*x1^4*x2^3 + (730*b + 10682)*x1^3*x2^4 + (6*b + 578)*x1^2*x2^5 + (442*b - 902)*x1*x2^6 + (33*b + 83)*x1^6 + (11/2*b + 129/2)*x1^5*x2 + (964*b + 2308)*x1^4*x2^2 + (-212*b + 1084)*x1^3*x2^3 + (-1248*b + 1176)*x1^2*x2^4 + (92*b - 100)*x1*x2^5 + (1344*b - 3112)*x2^6 + (183*b + 291)*x1^5 + (514*b + 498)*x1^4*x2 + (214*b + 324)*x1^3*x2^2 + (1516*b - 792)*x1^2*x2^3 + (-448*b + 312)*x1*x2^4 + (-17*b - 75)*x1^4 + (330*b + 1134)*x1^3*x2 + (-12*b - 36)*x1^2*x2^2 + (656*b - 1736)*x1*x2^3 + (-30*b + 278)*x1^3 + (34*b + 174)*x1^2*x2 + (8*b - 24)*x1*x2^2 + (664*b - 1608)*x2^3 + (92*b + 68)*x1^2 + (36*b - 12)*x1 + (32*b - 64))/((244*b + 559)*x1^7*x2 + (-1124*b - 1132)*x1^4*x2^4 + (1822*b - 4826)*x1*x2^7 + (-106*b - 262)*x1^5*x2^2 + (-60*b - 532)*x1^2*x2^5 + (58*b + 124)*x1^6 + (-463*b - 1115)*x1^5*x2 + (-78*b - 754)*x1^3*x2^3 + (856*b - 140)*x1^2*x2^4 + (-884*b + 1804)*x2^6 + (-184*b - 320)*x1^4*x2 + (18*b + 94)*x1^3*x2^2 + (752*b - 1520)*x1*x2^4 + (-118*b - 230)*x1^4 + (166*b + 466)*x1^3*x2 + (-4*b - 12)*x1^2*x2^2 + (-104*b + 640)*x1*x2^3 + (-24*b - 88)*x1^3 + (124*b + 188)*x1^2*x2 + (-304*b + 752)*x2^3 + (52*b + 76)*x1^2 + (56*b - 72)*x1*x2 + (16*b + 64)*x1 + (-16*b + 48))\n"
     ]
    }
   ],
   "source": [
    "#### test for bivariate rational functions: non-summable case\n",
    "t = polygen(QQ, 't')\n",
    "K.<b> = NumberField(t^2 - 5, embedding=QQbar(sqrt(5)))\n",
    "R.<x1,x2> = PolynomialRing(K)\n",
    "x = [*list(R.gens())]\n",
    "S = R.fraction_field()\n",
    "h = S.random_element(3, 5)\n",
    "u = S.random_element(2, 2)\n",
    "# a = [0 for i in range(len(x))]\n",
    "# while 0 in a:\n",
    "#     a = [K.random_element() for i in range(len(x))]\n",
    "# c = 0\n",
    "# while c == 0:\n",
    "#     c = K.random_element()\n",
    "a = [1/2 + 1/2*b,1/2-1/2*b]\n",
    "c = 1\n",
    "print(\"x=\", x, \"a=\", a, \"c=\",c)\n",
    "rel = IntegerRelations.integer_relations(a)\n",
    "print(\"integer_relation = \", rel)\n",
    "f =S(c*sigma(h, x, a) - h + u)\n",
    "print(\"h = \", h)\n",
    "print(\"u = \", u)\n",
    "print(\"f = \", f)"
   ]
  },
  {
   "cell_type": "code",
   "execution_count": 28,
   "id": "5c38da39",
   "metadata": {},
   "outputs": [
    {
     "name": "stdout",
     "output_type": "stream",
     "text": [
      "(((-305/404*b + 819/404)*x1^5*x2^2 + (-53/19*b + 112/19)*x1^4*x2^3 + (7/19*b - 13/19)*x1^3*x2^4 + (43/82*b - 97/82)*x1^5*x2 + (127/19*b - 263/19)*x1^4*x2^2 + (963/3838*b - 2923/3838)*x1^3*x2^3 + (-2490/779*b + 5596/779)*x1^2*x2^4 + (92693/78679*b - 229991/78679)*x1^3*x2^2 + (85/1681*b - 207/1681)*x1^4 + (-672/779*b + 1514/779)*x1^3*x2 + (2906/1919*b - 6792/1919)*x1^2*x2^2 + (-10012/31939*b + 23512/31939)*x1*x2^3 + (24773/169781*b - 58431/169781)*x1^3 + (-16118/31939*b + 36958/31939)*x1^2*x2 + (-1996/31939*b + 4228/31939)*x1*x2^2 + (-40188/31939*b + 88456/31939)*x1^2 + (-164526/3225839*b + 402014/3225839)*x1*x2 + (-1135600/3225839*b + 2604144/3225839)*x1 + (-895592/3225839*b + 2028672/3225839))/((-b + 2)*x1^5*x2^2 + (113/19*b - 237/19)*x1^2*x2^5 + (7/19*b - 13/19)*x1^3*x2^3 + (31/19*b - 63/19)*x1^3*x2^2 + (34/19*b - 74/19)*x1^2*x2^2 + (292/1681*b - 632/1681)*x1^3 + (-33524/31939*b + 73572/31939)*x2^3 + (-1996/31939*b + 4228/31939)*x1*x2 + (-9100/31939*b + 19788/31939)*x1 + (-10216/31939*b + 22664/31939)), ((-5/41*b + 17/41))/(x1*x2 + (6/41*b - 4/41)))\n"
     ]
    },
    {
     "data": {
      "text/plain": [
       "True"
      ]
     },
     "execution_count": 28,
     "metadata": {},
     "output_type": "execute_result"
    }
   ],
   "source": [
    "## NOTE: It seems that the following procedure will run into an infinite loop.\n",
    "## Because \"IntegerRelations.integer_relations\" could not output a result.\n",
    "pair = additive_decomposition(f, x, a, c)\n",
    "print(pair)\n",
    "g = pair[0]\n",
    "r = pair[1]\n",
    "f == c*sigma(g, x, a) - g + r"
   ]
  },
  {
   "cell_type": "code",
   "execution_count": 29,
   "id": "f2d3b068",
   "metadata": {},
   "outputs": [],
   "source": [
    "## problem?:\n",
    "## a =  -1537600/64481201*b + 3399552/64481201\n",
    "## IntegerRelations.integer_relations([a,-2*b + 6, -9*b + 2])"
   ]
  },
  {
   "cell_type": "code",
   "execution_count": 30,
   "id": "7a8341b1",
   "metadata": {},
   "outputs": [
    {
     "data": {
      "text/plain": [
       "[1.839286755214161?,\n",
       " -0.4196433776070806? - 0.6062907292071993?*I,\n",
       " -0.4196433776070806? + 0.6062907292071993?*I]"
      ]
     },
     "execution_count": 30,
     "metadata": {},
     "output_type": "execute_result"
    }
   ],
   "source": [
    "#R.<t> = PolynomialRing(QQbar)\n",
    "N.<t> = QQ[]\n",
    "r =t^3 - t^2 - t - 1  # characteristic polynomial of Tribonacci sequences\n",
    "L=r.roots(ring=QQbar);L\n",
    "a=[i[0] for i in L]\n",
    "IntegerRelations.integer_relations(a)\n",
    "a"
   ]
  },
  {
   "cell_type": "code",
   "execution_count": 31,
   "id": "26c937ed",
   "metadata": {},
   "outputs": [
    {
     "data": {
      "text/plain": [
       "t^3 - t^2 - t - 1"
      ]
     },
     "execution_count": 31,
     "metadata": {},
     "output_type": "execute_result"
    }
   ],
   "source": [
    "factor(r)"
   ]
  },
  {
   "cell_type": "code",
   "execution_count": 32,
   "id": "ca2287b8",
   "metadata": {},
   "outputs": [
    {
     "data": {
      "text/plain": [
       "-0.9196433776070805? - 2.264603124384899?*I"
      ]
     },
     "execution_count": 32,
     "metadata": {},
     "output_type": "execute_result"
    }
   ],
   "source": [
    "p = t^6 + t^5 + 6*t^4 + t^3 + 24*t^2 + 35*t + 53\n",
    "p.roots(ring=QQbar)[0][0]"
   ]
  },
  {
   "cell_type": "code",
   "execution_count": 33,
   "id": "974028f6",
   "metadata": {},
   "outputs": [
    {
     "data": {
      "text/plain": [
       "[t == 1/3*(3*sqrt(33) + 19)^(1/3) + 4/3/(3*sqrt(33) + 19)^(1/3) + 1/3,\n",
       " t == 1/6*I*sqrt(3)*(3*sqrt(33) + 19)^(1/3) - 1/6*(3*sqrt(33) + 19)^(1/3) - 2/3*I*sqrt(3)/(3*sqrt(33) + 19)^(1/3) - 2/3/(3*sqrt(33) + 19)^(1/3) + 1/3,\n",
       " t == -1/6*I*sqrt(3)*(3*sqrt(33) + 19)^(1/3) - 1/6*(3*sqrt(33) + 19)^(1/3) + 2/3*I*sqrt(3)/(3*sqrt(33) + 19)^(1/3) - 2/3/(3*sqrt(33) + 19)^(1/3) + 1/3]"
      ]
     },
     "execution_count": 33,
     "metadata": {},
     "output_type": "execute_result"
    }
   ],
   "source": [
    "t = var('t')\n",
    "p = t^6 + t^5 + 6*t^4 + t^3 + 24*t^2 + 35*t + 53\n",
    "sol = solve(t^3-t^2-t-1,t,algorithm='sympy');sol"
   ]
  },
  {
   "cell_type": "code",
   "execution_count": 34,
   "id": "0e54fd8e",
   "metadata": {},
   "outputs": [
    {
     "data": {
      "text/plain": [
       "Number Field in b with defining polynomial t^6 + t^5 + 6*t^4 + t^3 + 24*t^2 + 35*t + 53"
      ]
     },
     "execution_count": 34,
     "metadata": {},
     "output_type": "execute_result"
    }
   ],
   "source": [
    "M = r.splitting_field('b');M"
   ]
  },
  {
   "cell_type": "code",
   "execution_count": 35,
   "id": "032ed19f",
   "metadata": {},
   "outputs": [
    {
     "name": "stdout",
     "output_type": "stream",
     "text": [
      "[0 0 1]\n",
      "[1 0 1]\n",
      "[0 1 1]\n",
      "[         7/187*b^5 + 9/187*b^4 + 30/187*b^3 + 52/187*b^2 + 76/187*b + 376/187                                                                             0                                                                             0]\n",
      "[                                                                            0           -1/143*b^5 - 4/143*b^4 + 8/143*b^3 - 42/143*b^2 - 7/143*b - 108/143                                                                             0]\n",
      "[                                                                            0                                                                             0 -74/2431*b^5 - 49/2431*b^4 - 526/2431*b^3 + 38/2431*b^2 - 79/221*b - 621/2431]\n"
     ]
    },
    {
     "data": {
      "text/plain": [
       "[1 1 1]"
      ]
     },
     "execution_count": 35,
     "metadata": {},
     "output_type": "execute_result"
    }
   ],
   "source": [
    "#### Example for Tribonacci sequences\n",
    "## define the difference automorphism and prepare the input\n",
    "t = polygen(QQ, 't')\n",
    "min_poly = t^6 + t^5 + 6*t^4 + t^3 + 24*t^2 + 35*t + 53\n",
    "one_root = min_poly.roots(ring=QQbar)[0][0]\n",
    "K.<b> = NumberField(min_poly, embedding=one_root) \n",
    "A = matrix(K, [[0,1,0],[0,0,1],[1,1,1]]).transpose()\n",
    "print(A)\n",
    "P, D = transition_matrix(A) # D is the diagonalization of A\n",
    "print(D)\n",
    "Q = P.inverse()\n",
    "R.<x1,x2,x3> = PolynomialRing(K)\n",
    "x = [*list(R.gens())]\n",
    "S = R.fraction_field()\n",
    "x = [x1,x2,x3]\n",
    "IntegerRelations.integer_relations(a)"
   ]
  },
  {
   "cell_type": "code",
   "execution_count": 36,
   "id": "e5937fc9",
   "metadata": {},
   "outputs": [
    {
     "data": {
      "text/plain": [
       "(-12/2057*b^5 - 13/2057*b^4 - 115/4114*b^3 - 205/4114*b^2 - 27/374*b + 152/2057)*x1 + (-1/1573*b^5 + 9/1573*b^4 - 49/3146*b^3 + 101/1573*b^2 - 3/143*b + 1591/3146)*x2 + (173/26741*b^5 + 16/26741*b^4 + 1164/26741*b^3 - 769/53482*b^2 + 453/4862*b + 22483/53482)*x3"
      ]
     },
     "execution_count": 36,
     "metadata": {},
     "output_type": "execute_result"
    }
   ],
   "source": [
    "#### Example: an identity involving the Tribonacci sequences\n",
    "#### sum_{k=1}^n T_k = 1/2*T_{n+2} + 1/2*T_n - 1/2\n",
    "a = D.diagonal()\n",
    "c = 1\n",
    "F = x1\n",
    "f = S(transition_map(F, Q, x)); f # f(x) = F(P*x)"
   ]
  },
  {
   "cell_type": "code",
   "execution_count": 37,
   "id": "dc4658d8",
   "metadata": {},
   "outputs": [
    {
     "data": {
      "text/plain": [
       "(True,\n",
       " (29/4114*b^5 + 47/4114*b^4 + 50/2057*b^3 + 81/2057*b^2 + 1/17*b + 315/2057)*x1 + (-15/3146*b^5 - 4/1573*b^4 - 5/1573*b^3 - 29/1573*b^2 - 19/286*b - 576/1573)*x2 + (-61/26741*b^5 - 475/53482*b^4 - 565/26741*b^3 - 560/26741*b^2 + 37/4862*b - 15347/53482)*x3)"
      ]
     },
     "execution_count": 37,
     "metadata": {},
     "output_type": "execute_result"
    }
   ],
   "source": [
    "pair = is_summable(f, x, a, c);pair"
   ]
  },
  {
   "cell_type": "code",
   "execution_count": 38,
   "id": "288941cc",
   "metadata": {},
   "outputs": [
    {
     "data": {
      "text/plain": [
       "True"
      ]
     },
     "execution_count": 38,
     "metadata": {},
     "output_type": "execute_result"
    }
   ],
   "source": [
    "g = pair[1]\n",
    "f == c*sigma(g, x, a) - g"
   ]
  },
  {
   "cell_type": "code",
   "execution_count": 39,
   "id": "7a029f1b",
   "metadata": {},
   "outputs": [
    {
     "data": {
      "text/plain": [
       "-1/2*x1 + 1/2*x3"
      ]
     },
     "execution_count": 39,
     "metadata": {},
     "output_type": "execute_result"
    }
   ],
   "source": [
    "#### G_n = -1/2*T_{n} + 1/2*T_{n+2} = -1/2*T_{n} + 1/2*(T_{n+1} + T_{n} + T_{n-1}) \n",
    "#### so G_n = 1/2*T_{n+1} + 1/2*T_{n-1} and G_1 = 1\n",
    "G = transition_map(g, P, x);G"
   ]
  }
 ],
 "metadata": {
  "kernelspec": {
   "display_name": "SageMath 10.0",
   "language": "sage",
   "name": "SageMath-10.0"
  },
  "language_info": {
   "codemirror_mode": {
    "name": "ipython",
    "version": 3
   },
   "file_extension": ".py",
   "mimetype": "text/x-python",
   "name": "python",
   "nbconvert_exporter": "python",
   "pygments_lexer": "ipython3",
   "version": "3.11.1"
  },
  "varInspector": {
   "cols": {
    "lenName": 16,
    "lenType": 16,
    "lenVar": 40
   },
   "kernels_config": {
    "python": {
     "delete_cmd_postfix": "",
     "delete_cmd_prefix": "del ",
     "library": "var_list.py",
     "varRefreshCmd": "print(var_dic_list())"
    },
    "r": {
     "delete_cmd_postfix": ") ",
     "delete_cmd_prefix": "rm(",
     "library": "var_list.r",
     "varRefreshCmd": "cat(var_dic_list()) "
    }
   },
   "types_to_exclude": [
    "module",
    "function",
    "builtin_function_or_method",
    "instance",
    "_Feature"
   ],
   "window_display": false
  }
 },
 "nbformat": 4,
 "nbformat_minor": 5
}
