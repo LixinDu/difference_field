{
 "cells": [
  {
   "cell_type": "markdown",
   "id": "c206b62a",
   "metadata": {},
   "source": [
    "### Basic examples\n",
    "This is a quick start guide of the SageMath Package difference_field\n",
    "#### 1. Download and import the package\n",
    "The difference_field package is based on the `rec_sequences` package by Philipp Nuspl. One can install *rec_sequences* using \n",
    "\n",
    "<small>\n",
    "sage -pip install git+https://github.com/PhilippNuspl/rec_sequences.git\n",
    "</small>\n",
    "\n",
    "\n",
    "If this does not work, one can download the rec_sequences package manually and copy the *rec_sequences* folder into the Sage *site-packages* directory.\n"
   ]
  },
  {
   "cell_type": "code",
   "execution_count": 1,
   "id": "aced7cfe",
   "metadata": {},
   "outputs": [],
   "source": [
    "from rec_sequences.IntegerRelations import *"
   ]
  },
  {
   "cell_type": "code",
   "execution_count": 2,
   "id": "de65af19",
   "metadata": {},
   "outputs": [],
   "source": [
    "load('difference_field.sage')"
   ]
  },
  {
   "cell_type": "markdown",
   "id": "9a6d2078",
   "metadata": {},
   "source": [
    "#### 2. The Difference Field setting\n",
    "Let $\\mathbb{Q}(\\alpha_1,\\alpha_2,\\alpha_3)$ be a field of rational functions in three variables $\\alpha_1,\\alpha_2,\\alpha_3$. Let $\\sigma:\\mathbb{Q}(\\alpha_1,\\alpha_2,\\alpha_3)\\to \\mathbb{Q}(\\alpha_1,\\alpha_2,\\alpha_3)$ be the field automorphism such that\n",
    "\n",
    "$$ \\sigma\\mid_\\mathbb{Q} = \\text{id}\\quad\\text{and}\\quad\\sigma(\\alpha_1,\\alpha_2,\\alpha_3) = (\\alpha_1,\\alpha_2,\\alpha_3)\\text{diag}(-1,1/2,-4)$$\n",
    "\n",
    "i.e.\n",
    "\n",
    "$$\\sigma(f(\\alpha_1, \\alpha_2,\\alpha_3)) = f(-\\alpha_1,(1/2)\\alpha_2, -4\\alpha_3) $$\n",
    "for all $f\\in \\mathbb{Q}(\\alpha_1,\\alpha_2,\\alpha_3)$. Then $(\\mathbb{Q}(\\alpha_1,\\alpha_2,\\alpha_3),\\sigma)$ is a difference field.  From now on, we will use this difference field as our working example."
   ]
  },
  {
   "cell_type": "markdown",
   "id": "687d34a6",
   "metadata": {},
   "source": [
    "#### 3. Compute the spread set of two polynomials\n",
    "For two polynomials $p,q\\in \\mathbb{Q}[\\alpha_1,\\alpha_2,\\alpha_3]$, one can compute the spread set\n",
    "$$\\text{Spr}_\\sigma(p,q):=\\{k\\in \\mathbb{Z}\\mid \\sigma^k(p) = uq \\text{ for some } u\\in \\mathbb{Q}\\setminus\\{0\\}\\}$$\n"
   ]
  },
  {
   "cell_type": "code",
   "execution_count": 3,
   "id": "94b0bcd7",
   "metadata": {},
   "outputs": [],
   "source": [
    "P.<a1,a2,a3> = PolynomialRing(QQ)\n",
    "a = [a1,a2,a3]\n",
    "lam = [-1,1/2,-4] "
   ]
  },
  {
   "cell_type": "markdown",
   "id": "7ed98f72",
   "metadata": {},
   "source": [
    "(1) Example 2.13 in paper: compute the spread set of $p=\\alpha_2^2\\alpha_3 + \\alpha_2\\alpha_3 + 1$ and $q = \\alpha_2^2+\\alpha_3+8\\alpha_2\\alpha_3-1$."
   ]
  },
  {
   "cell_type": "code",
   "execution_count": 4,
   "id": "2fe87296",
   "metadata": {},
   "outputs": [
    {
     "data": {
      "text/plain": [
       "[3, 0]"
      ]
     },
     "execution_count": 4,
     "metadata": {},
     "output_type": "execute_result"
    }
   ],
   "source": [
    "p =  a2^2*a3 + a2*a3 + 1; q =  a2^2*a3 + 8*a2*a3 -1\n",
    "spread(p,q,a,lam,constant=False)"
   ]
  },
  {
   "cell_type": "markdown",
   "id": "36228a1e",
   "metadata": {},
   "source": [
    "This implies $\\text{Spr}_\\sigma(p,q) = \\{3\\}$"
   ]
  },
  {
   "cell_type": "markdown",
   "id": "62940f24",
   "metadata": {},
   "source": [
    "(2) Example 2.13 in paper: compute the spread set of $p_1 =  \\alpha_2^2\\alpha_3 + 1$ and $q_1 =  \\alpha_2^2\\alpha_3 -1$"
   ]
  },
  {
   "cell_type": "code",
   "execution_count": 5,
   "id": "6ca4a339",
   "metadata": {},
   "outputs": [
    {
     "data": {
      "text/plain": [
       "[1, 2]"
      ]
     },
     "execution_count": 5,
     "metadata": {},
     "output_type": "execute_result"
    }
   ],
   "source": [
    "p1 = a2^2*a3+1; q1 = a2^2*a3-1\n",
    "spread(p1,q1,a,lam,constant=False)\n"
   ]
  },
  {
   "cell_type": "markdown",
   "id": "16c3edd5",
   "metadata": {},
   "source": [
    "This implies $\\text{Spr}_{\\sigma}(p_1, q_1)=1+2\\mathbb{Z}$."
   ]
  },
  {
   "cell_type": "markdown",
   "id": "aa8222ba",
   "metadata": {},
   "source": [
    "#### 4.  Decide the $c\\sigma$-summability of rational functions.\n",
    "Given $c\\in \\mathbb{Q}\\setminus\\{0\\}$ and $f\\in \\mathbb{Q}(\\alpha_1,\\alpha_2,\\alpha_3)$, one can decide whether there exists $g\\in \\mathbb{Q}(\\alpha_1,\\alpha_2,\\alpha_3)$ such that\n",
    "$$f = c\\sigma(g) - g.$$\n",
    "If such a $g$ exists, we say $f$ is $c\\sigma$-summable in $\\mathbb{Q}(\\alpha_1,\\alpha_2,\\alpha_3)$. We denote $c\\sigma(g)-g$ by $\\Delta_{c\\sigma}(g)$."
   ]
  },
  {
   "cell_type": "code",
   "execution_count": 6,
   "id": "242fd782",
   "metadata": {},
   "outputs": [],
   "source": [
    "R.<a1,a2> = PolynomialRing(QQ)\n",
    "T = R.fraction_field()['a3']\n",
    "S = T.fraction_field()\n",
    "a3 = T.gen()\n",
    "a = [a1,a2,a3]\n",
    "lam = [-1,1/2,-4]\n",
    "c = 1"
   ]
  },
  {
   "cell_type": "markdown",
   "id": "3721222b",
   "metadata": {},
   "source": [
    "\n",
    "(1) Example 3.8 in paper: decide the $\\sigma$-summability of \n",
    "$$f_2=\\Delta_\\sigma\\left(\\frac{\\alpha_2}{d_2}\\right) + \\frac{1}{d_2}=\\frac{(-1/8)\\alpha_2}{(1/4)\\alpha_1+\\alpha_3}+\\frac{1-\\alpha_2}{\\alpha_1+\\alpha_3}$$\n",
    "in $\\mathbb{Q}(\\alpha_1,\\alpha_2,\\alpha_3)$, where $d_2= \\alpha_1+\\alpha_2$. "
   ]
  },
  {
   "cell_type": "code",
   "execution_count": 7,
   "id": "d6849b99",
   "metadata": {},
   "outputs": [
    {
     "name": "stdout",
     "output_type": "stream",
     "text": [
      " case 2:  1/(a1 + a3) is not  1 *tau-summable, where tau is represented by a = [-1, 1/2, -4] \n",
      "\n"
     ]
    },
    {
     "data": {
      "text/plain": [
       "False"
      ]
     },
     "execution_count": 7,
     "metadata": {},
     "output_type": "execute_result"
    }
   ],
   "source": [
    "f2 =((-1/8)*a2)/((1/4)*a1+a3) + (1-a2)/(a1+a3) \n",
    "is_summable(f2, a, lam, c, info=true)"
   ]
  },
  {
   "cell_type": "markdown",
   "id": "4ef7f998",
   "metadata": {},
   "source": [
    "This implies that $f_2$ is not $c\\sigma$-summable in $\\mathbb{Q}(\\alpha_1,\\alpha_2,\\alpha_3)$.  "
   ]
  },
  {
   "cell_type": "code",
   "execution_count": 8,
   "id": "64114327",
   "metadata": {},
   "outputs": [
    {
     "name": "stdout",
     "output_type": "stream",
     "text": [
      " case 2:  1/(a1 + a3) is not  1 *tau-summable, where tau is represented by a = [-1, 1/2, -4] \n",
      "\n"
     ]
    },
    {
     "data": {
      "text/plain": [
       "(a2/(a1 + a3), 1/(a1 + a3))"
      ]
     },
     "execution_count": 8,
     "metadata": {},
     "output_type": "execute_result"
    }
   ],
   "source": [
    "g2,r2 = additive_decomposition(f2, a, lam, c, info=True)\n",
    "g2,r2"
   ]
  },
  {
   "cell_type": "markdown",
   "id": "d547be83",
   "metadata": {},
   "source": [
    "This implies $f_2$ can be decomposed into $f_2 = \\Delta_{\\sigma}(g_2) + r_2$, where $g_2=\\frac{\\alpha_2}{\\alpha_1+\\alpha_3}$ and $r_2=\\frac{1}{\\alpha_1+\\alpha_3}$. \n",
    "\n",
    "Since $r_2\\neq 0$, it follows that $f_2$ is not $\\sigma$-summable in $\\mathbb{Q}(\\alpha_1,\\alpha_2,\\alpha_3)$."
   ]
  },
  {
   "cell_type": "code",
   "execution_count": 9,
   "id": "d44fc6b0",
   "metadata": {},
   "outputs": [
    {
     "data": {
      "text/plain": [
       "True"
      ]
     },
     "execution_count": 9,
     "metadata": {},
     "output_type": "execute_result"
    }
   ],
   "source": [
    "## check additive_decomposition\n",
    "f2 == c*sigma(g2, a, lam) - g2 + r2"
   ]
  },
  {
   "cell_type": "markdown",
   "id": "adbc8373",
   "metadata": {},
   "source": [
    "(2) Example 3.10 in paper: decide the $\\sigma$-summability of $$f_3 = \\frac{(1/4)\\alpha_2^2}{d_3} = \\frac{(1/4)\\alpha_2}{\\alpha_2^2\\alpha_3 - 1}$$\n",
    "in $\\mathbb{Q}(\\alpha_1,\\alpha_2,\\alpha_3)$, where $d_3= \\alpha_2^2\\alpha_3-1$."
   ]
  },
  {
   "cell_type": "code",
   "execution_count": 10,
   "id": "d55cb648",
   "metadata": {},
   "outputs": [
    {
     "data": {
      "text/plain": [
       "(True, (1/5*a2^4*a3 + 1/3*a2^2)/(-a2^4*a3^2 + 1))"
      ]
     },
     "execution_count": 10,
     "metadata": {},
     "output_type": "execute_result"
    }
   ],
   "source": [
    "d3 = (a2^2*a3-1)\n",
    "f3 = 1/4*a2^2/d3\n",
    "pair3 = is_summable(f3, a, lam, c)\n",
    "pair3"
   ]
  },
  {
   "cell_type": "markdown",
   "id": "be7b7812",
   "metadata": {},
   "source": [
    "This implies that $f_3$ is $\\sigma$-summable, and $f_3=\\Delta_\\sigma\\left(g_3\\right)$ with $g_3=\\frac{\\frac{1}{5}\\alpha_2^4+\\alpha_3}{-\\alpha_2^4\\alpha_3^2+1}$.\n"
   ]
  },
  {
   "cell_type": "code",
   "execution_count": 11,
   "id": "68666f5b",
   "metadata": {},
   "outputs": [
    {
     "data": {
      "text/plain": [
       "True"
      ]
     },
     "execution_count": 11,
     "metadata": {},
     "output_type": "execute_result"
    }
   ],
   "source": [
    "# check is_summable\n",
    "g3 = pair3[1]\n",
    "f3 == c * sigma(g3, a, lam) - g3"
   ]
  },
  {
   "cell_type": "markdown",
   "id": "d676be7f",
   "metadata": {},
   "source": [
    "#### 5.Description of our package\n",
    "As an example, one can see the description of Spread by typing"
   ]
  },
  {
   "cell_type": "code",
   "execution_count": 12,
   "id": "3dfe4632",
   "metadata": {},
   "outputs": [
    {
     "name": "stdout",
     "output_type": "stream",
     "text": [
      "\u001b[31mSignature:\u001b[39m      spread(p, q, x, a, *, constant=\u001b[38;5;28;01mFalse\u001b[39;00m, relation=\u001b[38;5;28;01mNone\u001b[39;00m)\n",
      "\u001b[31mDocstring:\u001b[39m     \n",
      "   determines whether two polynomials p,q are shift equivalent or not\n",
      "   with respect to tau, i.e., whether there exists an integer i such\n",
      "   that tau^i(p) = c*q for some nonzero constant c, where tau(p(x)) =\n",
      "   p(a*x). Here a*x = [a_1*x_1, ..., a_n*x_n] if a = [a_1, ..., a_n]\n",
      "   and x = [x_1, ..., x_n].\n",
      "\n",
      "   INPUT:\n",
      "\n",
      "      \"p\", \"q\", two polynomials in QQbar[x]\n",
      "      \"x\", a list of variables\n",
      "      \"a\", a list of numbers in QQbar\n",
      "\n",
      "   OUTPUT:\n",
      "\n",
      "      If p and q are shift equivalent with respect to tau, return \"[k, j]\" such that\n",
      "                   {k + j*m | m is an integer}\n",
      "           forms the solution set {i | i is an integer such that tau^i(p) = c*q for some nonzero constant c};\n",
      "      otherwise, return \"[]\".\n",
      "\n",
      "   OPTIONAL:\n",
      "\n",
      "      If constant = True, return \"[k, j], [c_1, c_2]\" such that tau^k(p) = c_1 * q and tau^j(p) = c2 * p\n",
      "      If constant = False, return \"[k, j]\".\n",
      "\n",
      "   EXAMPLES:\n",
      "\n",
      "      sage: R.<x1,x2> = PolynomialRing(QQbar, order = 'negdeglex');\n",
      "      sage: spread(x1 + x2, 4*(2*x1 + 3*x2), [x1, x2], [2,3])\n",
      "      [1, 0]\n",
      "      sage: spread(x1+x2+x2^2, x1-x2+x2^2, [x1,x2], [1,-1])\n",
      "      [1, 2]\n",
      "      sage: rel = IntegerRelations.integer_relations([2,-1])\n",
      "      sage: spread(x1 + x2, 4*(2^3*x1 + (-1)^3*x2), [x1, x2], [2,-1], constant = True,relation = rel)\n",
      "      ([3, 0], [1/4, 1])\n",
      "\u001b[31mInit docstring:\u001b[39m Initialize self.  See help(type(self)) for accurate signature.\n",
      "\u001b[31mFile:\u001b[39m           Dynamically generated function. No source code available.\n",
      "\u001b[31mType:\u001b[39m           function"
     ]
    }
   ],
   "source": [
    "spread?"
   ]
  }
 ],
 "metadata": {
  "kernelspec": {
   "display_name": "SageMath 10.6",
   "language": "sage",
   "name": "SageMath-10.6"
  },
  "language_info": {
   "codemirror_mode": {
    "name": "ipython",
    "version": 3
   },
   "file_extension": ".py",
   "mimetype": "text/x-python",
   "name": "python",
   "nbconvert_exporter": "python",
   "pygments_lexer": "ipython3",
   "version": "3.12.5"
  },
  "varInspector": {
   "cols": {
    "lenName": 16,
    "lenType": 16,
    "lenVar": 40
   },
   "kernels_config": {
    "python": {
     "delete_cmd_postfix": "",
     "delete_cmd_prefix": "del ",
     "library": "var_list.py",
     "varRefreshCmd": "print(var_dic_list())"
    },
    "r": {
     "delete_cmd_postfix": ") ",
     "delete_cmd_prefix": "rm(",
     "library": "var_list.r",
     "varRefreshCmd": "cat(var_dic_list()) "
    }
   },
   "types_to_exclude": [
    "module",
    "function",
    "builtin_function_or_method",
    "instance",
    "_Feature"
   ],
   "window_display": false
  }
 },
 "nbformat": 4,
 "nbformat_minor": 5
}
