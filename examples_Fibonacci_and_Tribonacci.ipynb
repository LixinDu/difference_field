{
 "cells": [
  {
   "cell_type": "code",
   "execution_count": 1,
   "id": "12f99376",
   "metadata": {},
   "outputs": [],
   "source": [
    "# pip install --upgrade pip\n",
    "# pip install git+https://github.com/PhilippNuspl/rec_sequences.git"
   ]
  },
  {
   "cell_type": "code",
   "execution_count": 2,
   "id": "aced7cfe",
   "metadata": {},
   "outputs": [],
   "source": [
    "#from ore_algebra import *\n",
    "from rec_sequences.IntegerRelations import *"
   ]
  },
  {
   "cell_type": "code",
   "execution_count": 3,
   "id": "de65af19",
   "metadata": {},
   "outputs": [],
   "source": [
    "load('difference_field.sage')"
   ]
  },
  {
   "cell_type": "code",
   "execution_count": 4,
   "id": "878bebb8",
   "metadata": {},
   "outputs": [],
   "source": [
    "#### Consider the Fibonacci sequence a(n+2)= a(n+1)+a(n) with a(0)=0, a(1)=1.\n",
    "#### Example 3.3 in Hou, Wei, Rational Solutions to the First Order Difference Equations in the Bivariate Difference Field, 2023\n",
    "t = polygen(QQ, 't')\n",
    "K.<b> = NumberField(t^2 - 5, embedding=QQbar(sqrt(5))) # b = QQbar(sqrt(5)), K = QQ(sqrt(5)) is the base field\n",
    "R.<x1,x2> =  PolynomialRing(K)\n",
    "S = R.fraction_field()"
   ]
  },
  {
   "cell_type": "code",
   "execution_count": 5,
   "id": "d2c2a72c",
   "metadata": {},
   "outputs": [],
   "source": [
    "A = matrix(K, [[0,1],[1,1]]) # consider the difference field (K(x1,x2), sigma), where sigma(f(x1,x2)) = f((x1,x2)*A) = f(x2,x1+x2)\n",
    "x = [x1,x2]\n",
    "c = 1"
   ]
  },
  {
   "cell_type": "code",
   "execution_count": 6,
   "id": "c248b1d9",
   "metadata": {},
   "outputs": [
    {
     "data": {
      "text/plain": [
       "(True, ((1/2*b - 5/2))/((-1/2*b + 5/2)*x2))"
      ]
     },
     "execution_count": 6,
     "metadata": {},
     "output_type": "execute_result"
    }
   ],
   "source": [
    "#### Example: prove the identity: \\sum_{n=1}^\\infty F_n/(F_{n+1}*F_{n+2} = 1\n",
    "## given F, find one solution of sigma(G) - G = F, where sigma(f(x1,x2)) = f((x1,x2)A) = f(x2, x1+x2)\n",
    "F = x1/(x2*(x1+x2)) \n",
    "pair = is_summable2(F, x, A, c); pair"
   ]
  },
  {
   "cell_type": "code",
   "execution_count": 7,
   "id": "cee6fed5",
   "metadata": {},
   "outputs": [
    {
     "data": {
      "text/plain": [
       "True"
      ]
     },
     "execution_count": 7,
     "metadata": {},
     "output_type": "execute_result"
    }
   ],
   "source": [
    "G = pair[1] \n",
    "G == -1*1/x2\n",
    "F == c*sigma(G, x, A) - G"
   ]
  },
  {
   "cell_type": "code",
   "execution_count": 8,
   "id": "6ba7abff",
   "metadata": {},
   "outputs": [],
   "source": [
    "## Proof of the identity: \\sum_{n=1}^\\infty F_n/(F_{n+1}*F_{n+2} = 1\n",
    "# By is_summbale2, F_n/(F_{n+1}*F_{n+2} = G_{n+1} - G_n, where G_n = -1/F_{n+1}.\n",
    "# \\sum_{n=1}^\\infty F_n/(F_{n+1}*F_{n+2} = \\limit_{m -> \\infty} \\sum_{n=1}^\\m G_{n+1} - G_n = \\limit_{m-> infty} G_{m+1} - G_1 = 1"
   ]
  },
  {
   "cell_type": "code",
   "execution_count": 9,
   "id": "45a6dec3",
   "metadata": {},
   "outputs": [
    {
     "data": {
      "text/plain": [
       "(True, -1*x1^2 + x1*x2)"
      ]
     },
     "execution_count": 9,
     "metadata": {},
     "output_type": "execute_result"
    }
   ],
   "source": [
    "#### Example: an identity involving the Fibonacci sequence a_n\n",
    "#### sum_{k=1}^{n+1} a_k^2 = a_{n+1}*a_{n+2} \n",
    "## given F = x1^2, find one solution of sigma(G) - G = F\n",
    "F = x1^2\n",
    "pair = is_summable2(F, x, A, c); pair"
   ]
  },
  {
   "cell_type": "code",
   "execution_count": 10,
   "id": "128c65b6",
   "metadata": {},
   "outputs": [
    {
     "data": {
      "text/plain": [
       "True"
      ]
     },
     "execution_count": 10,
     "metadata": {},
     "output_type": "execute_result"
    }
   ],
   "source": [
    "G = pair[1]\n",
    "F == c*sigma(G, x, A) - G"
   ]
  },
  {
   "cell_type": "code",
   "execution_count": 11,
   "id": "e07cf1ed",
   "metadata": {},
   "outputs": [
    {
     "data": {
      "text/plain": [
       "((b*x1 + (1/2*b + 5/2)*x2)/((-b)*x2),\n",
       " ((-1/2*b - 5/2)*x1 + (1/2*b + 5/2)*x2)/((1/2*b + 5/2)*x1 + (1/2*b + 5/2)*x2))"
      ]
     },
     "execution_count": 11,
     "metadata": {},
     "output_type": "execute_result"
    }
   ],
   "source": [
    "## non-summable case:\n",
    "F = x1^2/(x2*(x1+x2)) \n",
    "G, R = additive_decomposition2(F, x, A, c);G,R"
   ]
  },
  {
   "cell_type": "code",
   "execution_count": 12,
   "id": "55b5a5ac",
   "metadata": {},
   "outputs": [
    {
     "data": {
      "text/plain": [
       "True"
      ]
     },
     "execution_count": 12,
     "metadata": {},
     "output_type": "execute_result"
    }
   ],
   "source": [
    "F == c*sigma(G, x, A) - G + R"
   ]
  },
  {
   "cell_type": "code",
   "execution_count": 13,
   "id": "7a2888e9",
   "metadata": {},
   "outputs": [],
   "source": [
    "## Proof of the above identity sum_{k=1}^{n+1} a_k^2 = a_{n+1}*a_{n+2}: \n",
    "# By is_summbale2, a_k = b_{k+1} - b_k, where b_k = - a_k^2 + a_k*a_{k+1}\n",
    "# b_{n+2} = -a_{n+2}^2 + a_{n+2}*a_{n+3} =  -a_{n+2}^2 + a_{n+2}* (a_{n+2} + a_{n+1}) = a_{n+1}*a_{n+2} \n",
    "# b_1 = -a_1^2 + a_1*a_2 = -1^2 +1*1 = 0\n",
    "# so sum_{k=1}^{n+1} a_k^2 = sum_{k=1}^{n+1} (b_{k+1} - b_k) = b_{n+2} - b_1 = a_{n+1}*a_{n+2} "
   ]
  },
  {
   "cell_type": "code",
   "execution_count": 14,
   "id": "26a22234",
   "metadata": {},
   "outputs": [],
   "source": [
    "#### Consider the Tribonacci sequence T(n+3)-T(n+2)-T(n+1)-T(n)=0 with T(0)=0, T(1)=1, T(2)=1.\n",
    "t = polygen(QQ, 't')\n",
    "r =t^3 - t^2 - t - 1  # characteristic polynomial of the Tribonacci sequence\n",
    "min_poly = r.splitting_field('b').defining_polynomial()\n",
    "one_root = min_poly.roots(ring=QQbar)[0][0]\n",
    "K.<b> = NumberField(min_poly, embedding=one_root) \n",
    "R.<x1,x2,x3> =  PolynomialRing(K)\n",
    "S = R.fraction_field()"
   ]
  },
  {
   "cell_type": "code",
   "execution_count": 15,
   "id": "e88d2ec0",
   "metadata": {},
   "outputs": [],
   "source": [
    "## consider the difference field (K(x1,x2,x3), sigma), where sigma(f(x1,x2,x3)) = f((x1,x2,x3)*A) = f(x2,x3,x1+x2+x3)\n",
    "A = matrix(K, [[0,1,0],[0,0,1],[1,1,1]]).transpose()\n",
    "x = [x1,x2,x3]\n",
    "c = 1"
   ]
  },
  {
   "cell_type": "code",
   "execution_count": 16,
   "id": "bd339410",
   "metadata": {},
   "outputs": [
    {
     "data": {
      "text/plain": [
       "(True, -1/2*x1 + 1/2*x3)"
      ]
     },
     "execution_count": 16,
     "metadata": {},
     "output_type": "execute_result"
    }
   ],
   "source": [
    "#### Example: an identity involving the Tribonacci sequences\n",
    "#### sum_{k=1}^n T_k = 1/2*T_{n+2} + 1/2*T_n - 1/2\n",
    "F = x1\n",
    "pair = is_summable2(F, x, A, c); pair"
   ]
  },
  {
   "cell_type": "code",
   "execution_count": 17,
   "id": "d026ff48",
   "metadata": {},
   "outputs": [
    {
     "data": {
      "text/plain": [
       "True"
      ]
     },
     "execution_count": 17,
     "metadata": {},
     "output_type": "execute_result"
    }
   ],
   "source": [
    "G = pair[1]\n",
    "F == c*sigma(G, x, A) - G"
   ]
  },
  {
   "cell_type": "code",
   "execution_count": 18,
   "id": "7a029f1b",
   "metadata": {},
   "outputs": [],
   "source": [
    "## proof of the above identity:\n",
    "# G_n = -1/2*T_{n} + 1/2*T_{n+2} = -1/2*T_{n} + 1/2*(T_{n+1} + T_{n} + T_{n-1}) = 1/2*T_{n+1} + 1/2*T_{n-1}\n",
    "# G_1 = 1/2(T_2 + T_0) = 1/2*(1+0) = 1/2\n",
    "# so  sum_{k=1}^n T_k = sum_{k=1}^n G_{k+1} - G_k = G_{n+1} - G_1 = 1/2*T_{n+1} + 1/2*T_{n-1} - 1/2"
   ]
  },
  {
   "cell_type": "code",
   "execution_count": null,
   "id": "d001f1e6",
   "metadata": {},
   "outputs": [],
   "source": []
  },
  {
   "cell_type": "code",
   "execution_count": null,
   "id": "98b3cf9a",
   "metadata": {},
   "outputs": [],
   "source": []
  }
 ],
 "metadata": {
  "kernelspec": {
   "display_name": "SageMath 10.0",
   "language": "sage",
   "name": "SageMath-10.0"
  },
  "language_info": {
   "codemirror_mode": {
    "name": "ipython",
    "version": 3
   },
   "file_extension": ".py",
   "mimetype": "text/x-python",
   "name": "python",
   "nbconvert_exporter": "python",
   "pygments_lexer": "ipython3",
   "version": "3.11.1"
  },
  "varInspector": {
   "cols": {
    "lenName": 16,
    "lenType": 16,
    "lenVar": 40
   },
   "kernels_config": {
    "python": {
     "delete_cmd_postfix": "",
     "delete_cmd_prefix": "del ",
     "library": "var_list.py",
     "varRefreshCmd": "print(var_dic_list())"
    },
    "r": {
     "delete_cmd_postfix": ") ",
     "delete_cmd_prefix": "rm(",
     "library": "var_list.r",
     "varRefreshCmd": "cat(var_dic_list()) "
    }
   },
   "types_to_exclude": [
    "module",
    "function",
    "builtin_function_or_method",
    "instance",
    "_Feature"
   ],
   "window_display": false
  }
 },
 "nbformat": 4,
 "nbformat_minor": 5
}
