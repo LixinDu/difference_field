{
 "cells": [
  {
   "cell_type": "code",
   "execution_count": 1,
   "id": "12f99376",
   "metadata": {},
   "outputs": [],
   "source": [
    "# pip install --upgrade pip\n",
    "# pip install git+https://github.com/PhilippNuspl/rec_sequences.git"
   ]
  },
  {
   "cell_type": "code",
   "execution_count": 2,
   "id": "aced7cfe",
   "metadata": {},
   "outputs": [],
   "source": [
    "from rec_sequences.IntegerRelations import *"
   ]
  },
  {
   "cell_type": "code",
   "execution_count": 3,
   "id": "de65af19",
   "metadata": {},
   "outputs": [],
   "source": [
    "load('difference_field.sage')"
   ]
  },
  {
   "cell_type": "code",
   "execution_count": 4,
   "id": "94b0bcd7",
   "metadata": {},
   "outputs": [],
   "source": [
    "P.<x1,x2,x3> = PolynomialRing(QQ)\n",
    "x = [x1,x2,x3]\n",
    "a = [-1,1/2,-4] "
   ]
  },
  {
   "cell_type": "code",
   "execution_count": 5,
   "id": "2fe87296",
   "metadata": {},
   "outputs": [
    {
     "data": {
      "text/plain": [
       "([3, 0], [-1, 1])"
      ]
     },
     "execution_count": 5,
     "metadata": {},
     "output_type": "execute_result"
    }
   ],
   "source": [
    "#### consider the spread set of two polynomials in QQ[x1,x2,x3]\n",
    "p =  x2^2*x3 + x2*x3 + 1\n",
    "q =  x2^2*x3 + 8*x2*x3 -1\n",
    "sol = spread(p,q,x,a,constant=True);sol"
   ]
  },
  {
   "cell_type": "code",
   "execution_count": 6,
   "id": "796c0c29",
   "metadata": {},
   "outputs": [
    {
     "name": "stdout",
     "output_type": "stream",
     "text": [
      "True\n",
      "True\n"
     ]
    }
   ],
   "source": [
    "## check spread\n",
    "[k,j],[c1,c2] = sol\n",
    "print(tau(p,x,a,k) == c1*q) # tau^k (p(x1,x2,x3)) = p((-1)^k * x1, (1/2)^k * x2, (-4)^k * x3 )\n",
    "print(tau(p,x,a,j) == c2*p)"
   ]
  },
  {
   "cell_type": "code",
   "execution_count": 7,
   "id": "9dc14b72",
   "metadata": {},
   "outputs": [
    {
     "data": {
      "text/plain": [
       "([1, 2], [-1, 1])"
      ]
     },
     "execution_count": 7,
     "metadata": {},
     "output_type": "execute_result"
    }
   ],
   "source": [
    "p1 = x2^2*x3+1\n",
    "q1 = x2^2*x3-1\n",
    "spread(p1,q1,x,a,constant=True)"
   ]
  },
  {
   "cell_type": "code",
   "execution_count": 8,
   "metadata": {},
   "outputs": [
    {
     "data": {
      "text/plain": [
       "([3, 0], [-1, 1])"
      ]
     },
     "execution_count": 8,
     "metadata": {},
     "output_type": "execute_result"
    }
   ],
   "source": [
    "p2 = x2^2*x3  + x2*x3\n",
    "q2 = x2^2*x3 + 8*x2*x3\n",
    "spread(p2,q2,x,a,constant=True)"
   ]
  },
  {
   "cell_type": "code",
   "execution_count": 9,
   "id": "73f20fcc",
   "metadata": {},
   "outputs": [
    {
     "name": "stdout",
     "output_type": "stream",
     "text": [
      "x= [x1, x2, x3] a= [-1, 1/2, -4] c= 1\n",
      "integer_relation: \n",
      " [1 2 1]\n",
      "[0 4 2]\n"
     ]
    }
   ],
   "source": [
    "#### Summability for trivariate rational functions: summable case\n",
    "## define the rational function field S = QQ(x1,x2,x3)\n",
    "R.<x1,x2> = PolynomialRing(QQ)\n",
    "T = R.fraction_field()['x3']\n",
    "x3 = T.gen()\n",
    "x = [x1,x2,x3]\n",
    "S = T.fraction_field()  ## S = QQ(x1,x2)(x3)\n",
    "a = [-1,1/2,-4]\n",
    "c = 1\n",
    "print(\"x=\", x, \"a=\", a, \"c=\",c)\n",
    "rel = IntegerRelations.integer_relations(a)\n",
    "print(\"integer_relation: \\n\", rel)"
   ]
  },
  {
   "cell_type": "code",
   "execution_count": 10,
   "id": "f3181634",
   "metadata": {},
   "outputs": [
    {
     "name": "stdout",
     "output_type": "stream",
     "text": [
      "\n",
      "Consider the tau-summability of  x1/x3\n",
      "(True, (-4/3*x1)/x3)\n",
      "True\n",
      "\n",
      "Consider the tau-summability of  x1^2\n",
      "case 1:  x1^2 is not  1 *tau-summable, where tau is represented by a = [-1]\n",
      "False\n",
      "\n",
      "Consider the tau-summability of f1 =  (x1^2*x3 + x1)/x3\n",
      "g1 =  (-4/3*x1)/x3\n",
      "r1 =  x1^2\n"
     ]
    }
   ],
   "source": [
    "#### consider the sigma-summability of rational functions in QQ(x1,x2,x3), where sigma(f(x1,x2,x3))=f(-x1,1/2*x2,-4*x3)\n",
    "## for f1 = x1/x3 + x1^2\n",
    "F1 = [x1/x3,x1^2]\n",
    "for h in F1:\n",
    "    print(\"\\nConsider the tau-summability of \", h)\n",
    "    pair = is_summable(h, x, a, c, info =True)\n",
    "    print(pair)\n",
    "    if pair != False:\n",
    "        g2 = pair[1]\n",
    "        print(h == c * sigma(g2, x, a) - g2)\n",
    "f1 = sum([u for u in F1])\n",
    "print(\"\\nConsider the tau-summability of f1 = \", f1)\n",
    "g1, r1= additive_decomposition(f1, x, a, c)\n",
    "print(\"g1 = \", g1)\n",
    "print(\"r1 = \",r1)"
   ]
  },
  {
   "cell_type": "code",
   "execution_count": 11,
   "id": "f2dd3a9c",
   "metadata": {},
   "outputs": [
    {
     "data": {
      "text/plain": [
       "True"
      ]
     },
     "execution_count": 11,
     "metadata": {},
     "output_type": "execute_result"
    }
   ],
   "source": [
    "## check additive_decomposition\n",
    "f1 == c*sigma(g1, x, a) - g1 + r1"
   ]
  },
  {
   "cell_type": "code",
   "execution_count": 12,
   "id": "6401d5e9",
   "metadata": {},
   "outputs": [
    {
     "name": "stdout",
     "output_type": "stream",
     "text": [
      "f2 =  ((-9/8*x2 + 1)*x3 - 3/8*x1*x2 + 1/4*x1)/(x3^2 + 5/4*x1*x3 + 1/4*x1^2) \n",
      "\n",
      "The irreducible partial fraction decomposition of f2 is \n",
      " (0, [(-x2 + 1)/(x3 + x1), (-1/8*x2)/(x3 + 1/4*x1)]) \n",
      "\n",
      "The orbital partial fraction decomposition of f2 is \n",
      " [0, {x1 + x3: [[0, -x2 + 1, 1], [1, 1/2*x2, 1]]}] \n",
      "\n",
      "The isotropy group of the representative f2 is\n",
      "  {x1 + x3: [0, 1]} \n",
      "\n",
      "Consider the tau-summability of f2\n",
      "case 2:  1/(x1 + x3) is not  1 *tau-summable, where tau is represented by a = [-1, 1/2, -4]\n",
      "g2 =  x2/(x1 + x3)\n",
      "r2 =  1/(x1 + x3)\n"
     ]
    }
   ],
   "source": [
    "## for f2 = (-x2 + 1)/(x3 + x1) + (-1/8*x2)/(x3 + 1/4*x1)\n",
    "d2 = x1+x3\n",
    "h2 = x2/d2\n",
    "f2 = S(c * sigma(h2, x, a) - h2) + 1/d2\n",
    "print(\"f2 = \",f2,\"\\n\")\n",
    "print(\"The irreducible partial fraction decomposition of f2 is \\n\",f2.partial_fraction_decomposition(),\"\\n\")\n",
    "L2, Gp2 = orbital_partial_fraction(f2, x3, x, a, group = True); \n",
    "print(\"The orbital partial fraction decomposition of f2 is \\n\", L2,\"\\n\")\n",
    "print(\"The isotropy group of the representative f2 is\\n \", Gp2, \"\\n\")\n",
    "print(\"Consider the tau-summability of f2\")\n",
    "g2, r2= additive_decomposition(f2, x, a, c, info=True)\n",
    "print(\"g2 = \", g2)\n",
    "print(\"r2 = \",r2)"
   ]
  },
  {
   "cell_type": "code",
   "execution_count": 13,
   "id": "d24db362",
   "metadata": {},
   "outputs": [
    {
     "data": {
      "text/plain": [
       "True"
      ]
     },
     "execution_count": 13,
     "metadata": {},
     "output_type": "execute_result"
    }
   ],
   "source": [
    "## check additive_decomposition\n",
    "f2 == c*sigma(g2, x, a) - g2 + r2"
   ]
  },
  {
   "cell_type": "code",
   "execution_count": 14,
   "id": "2e5a540a",
   "metadata": {},
   "outputs": [
    {
     "name": "stdout",
     "output_type": "stream",
     "text": [
      "(True, (1/5*x2^4*x3 + 1/3*x2^2)/(-x2^4*x3^2 + 1))\n"
     ]
    }
   ],
   "source": [
    "## for f3= 1/4*x2^2/(x2^2*x3-1)\n",
    "d3 = (x2^2*x3-1)\n",
    "f3 = 1/4*x2^2/d3\n",
    "pair = is_summable(f3, x, a, c)\n",
    "print(pair)\n",
    "g3 = pair[1]\n"
   ]
  },
  {
   "cell_type": "code",
   "execution_count": 15,
   "id": "2e3b832f",
   "metadata": {},
   "outputs": [
    {
     "data": {
      "text/plain": [
       "True"
      ]
     },
     "execution_count": 15,
     "metadata": {},
     "output_type": "execute_result"
    }
   ],
   "source": [
    "# check is_summable\n",
    "f3 == c * sigma(g3, x, a) - g3"
   ]
  },
  {
   "cell_type": "code",
   "execution_count": null,
   "id": "b115564c",
   "metadata": {},
   "outputs": [],
   "source": []
  }
 ],
 "metadata": {
  "kernelspec": {
   "display_name": "SageMath 10.0",
   "language": "sage",
   "name": "SageMath-10.0"
  },
  "language_info": {
   "codemirror_mode": {
    "name": "ipython",
    "version": 3
   },
   "file_extension": ".py",
   "mimetype": "text/x-python",
   "name": "python",
   "nbconvert_exporter": "python",
   "pygments_lexer": "ipython3",
   "version": "3.11.1"
  },
  "varInspector": {
   "cols": {
    "lenName": 16,
    "lenType": 16,
    "lenVar": 40
   },
   "kernels_config": {
    "python": {
     "delete_cmd_postfix": "",
     "delete_cmd_prefix": "del ",
     "library": "var_list.py",
     "varRefreshCmd": "print(var_dic_list())"
    },
    "r": {
     "delete_cmd_postfix": ") ",
     "delete_cmd_prefix": "rm(",
     "library": "var_list.r",
     "varRefreshCmd": "cat(var_dic_list()) "
    }
   },
   "types_to_exclude": [
    "module",
    "function",
    "builtin_function_or_method",
    "instance",
    "_Feature"
   ],
   "window_display": false
  }
 },
 "nbformat": 4,
 "nbformat_minor": 5
}
