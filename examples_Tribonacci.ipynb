{
 "cells": [
  {
   "cell_type": "code",
   "execution_count": 28,
   "id": "12f99376",
   "metadata": {},
   "outputs": [],
   "source": [
    "# pip install --upgrade pip\n",
    "# pip install git+https://github.com/PhilippNuspl/rec_sequences.git"
   ]
  },
  {
   "cell_type": "code",
   "execution_count": 29,
   "id": "aced7cfe",
   "metadata": {},
   "outputs": [],
   "source": [
    "#from ore_algebra import *\n",
    "from rec_sequences.IntegerRelations import *"
   ]
  },
  {
   "cell_type": "code",
   "execution_count": 30,
   "id": "de65af19",
   "metadata": {},
   "outputs": [],
   "source": [
    "load('difference_field.sage')"
   ]
  },
  {
   "cell_type": "code",
   "execution_count": 31,
   "id": "26a22234",
   "metadata": {},
   "outputs": [],
   "source": [
    "#### Consider the Tribonacci sequence T(n+3)-T(n+2)-T(n+1)-T(n)=0 with T(0)=0, T(1)=1, T(2)=1.\n",
    "t = polygen(QQ, 't')\n",
    "r =t^3 - t^2 - t - 1  # characteristic polynomial of the Tribonacci sequence\n",
    "min_poly = r.splitting_field('b').defining_polynomial()\n",
    "one_root = min_poly.roots(ring=QQbar)[0][0]\n",
    "K.<b> = NumberField(min_poly, embedding=one_root) \n",
    "R.<x1,x2,x3> =  PolynomialRing(K)\n",
    "S = R.fraction_field()"
   ]
  },
  {
   "cell_type": "code",
   "execution_count": 32,
   "id": "e88d2ec0",
   "metadata": {},
   "outputs": [],
   "source": [
    "## consider the difference field (K(x1,x2,x3), sigma), where sigma(f(x1,x2,x3)) = f((x1,x2,x3)*A) = f(x2,x3,x1+x2+x3)\n",
    "A = matrix(K, [[0,1,0],[0,0,1],[1,1,1]]).transpose()\n",
    "x = [x1,x2,x3]\n",
    "c = 1"
   ]
  },
  {
   "cell_type": "code",
   "execution_count": 33,
   "id": "bd339410",
   "metadata": {},
   "outputs": [
    {
     "data": {
      "text/plain": [
       "(True, -1/2*x1 + 1/2*x3)"
      ]
     },
     "execution_count": 33,
     "metadata": {},
     "output_type": "execute_result"
    }
   ],
   "source": [
    "#### Example: an identity involving the Tribonacci sequences\n",
    "#### sum_{k=1}^n T_k = 1/2*T_{n+2} + 1/2*T_n - 1/2\n",
    "F = x1\n",
    "pair2 = is_summable2(F, x, A, c); pair2"
   ]
  },
  {
   "cell_type": "code",
   "execution_count": 34,
   "id": "d026ff48",
   "metadata": {},
   "outputs": [
    {
     "data": {
      "text/plain": [
       "True"
      ]
     },
     "execution_count": 34,
     "metadata": {},
     "output_type": "execute_result"
    }
   ],
   "source": [
    "G = pair2[1]\n",
    "F == c*sigma(G, x, A) - G"
   ]
  },
  {
   "cell_type": "code",
   "execution_count": 35,
   "id": "f7d7f00f",
   "metadata": {},
   "outputs": [],
   "source": [
    "## proof of the above identity:\n",
    "# G_n = -1/2*T_{n} + 1/2*T_{n+2} = -1/2*T_{n} + 1/2*(T_{n+1} + T_{n} + T_{n-1}) = 1/2*T_{n+1} + 1/2*T_{n-1}\n",
    "# G_1 = 1/2(T_2 + T_0) = 1/2*(1+0) = 1/2\n",
    "# so  sum_{k=1}^n T_k = sum_{k=1}^n G_{k+1} - G_k = G_{n+1} - G_1 = 1/2*T_{n+1} + 1/2*T_{n-1} - 1/2"
   ]
  },
  {
   "cell_type": "code",
   "execution_count": 36,
   "id": "58a3f7cc",
   "metadata": {},
   "outputs": [
    {
     "name": "stdout",
     "output_type": "stream",
     "text": [
      "Difference isomorphism defined by:\n",
      "[            -12/2057*b^5 - 13/2057*b^4 - 115/4114*b^3 - 205/4114*b^2 - 27/374*b + 152/2057                -1/1573*b^5 + 9/1573*b^4 - 49/3146*b^3 + 101/1573*b^2 - 3/143*b + 1591/3146   173/26741*b^5 + 16/26741*b^4 + 1164/26741*b^3 - 769/53482*b^2 + 453/4862*b + 22483/53482]\n",
      "[               19/4114*b^5 + 5/4114*b^4 + 65/2057*b^3 + 124/2057*b^2 + 16/187*b + 819/4114               19/3146*b^5 - 14/1573*b^4 + 54/1573*b^3 - 173/1573*b^2 + 31/286*b - 457/3146 -285/26741*b^5 + 411/53482*b^4 - 1763/26741*b^3 + 1329/26741*b^2 - 943/4862*b - 1439/26741]\n",
      "[                           1/121*b^5 + 2/121*b^4 + 5/242*b^3 + 7/242*b^2 + 1/22*b + 46/121                  -16/1573*b^5 + 1/1573*b^4 - 69/3146*b^3 + 43/1573*b^2 - 2/13*b - 713/3146                 3/1573*b^5 - 27/1573*b^4 + 2/1573*b^3 - 177/3146*b^2 + 31/286*b - 483/3146]\n",
      "Diagonal of Jordan normal form of the input matrix:\n",
      "[7/187*b^5 + 9/187*b^4 + 30/187*b^3 + 52/187*b^2 + 76/187*b + 376/187, -1/143*b^5 - 4/143*b^4 + 8/143*b^3 - 42/143*b^2 - 7/143*b - 108/143, -74/2431*b^5 - 49/2431*b^4 - 526/2431*b^3 + 38/2431*b^2 - 79/221*b - 621/2431]\n",
      "After the difference isomorphism, consider the summability of \n",
      "(-12/2057*b^5 - 13/2057*b^4 - 115/4114*b^3 - 205/4114*b^2 - 27/374*b + 152/2057)*x1 + (-1/1573*b^5 + 9/1573*b^4 - 49/3146*b^3 + 101/1573*b^2 - 3/143*b + 1591/3146)*x2 + (173/26741*b^5 + 16/26741*b^4 + 1164/26741*b^3 - 769/53482*b^2 + 453/4862*b + 22483/53482)*x3\n",
      " Summbale with a certificate:\n",
      "(29/4114*b^5 + 47/4114*b^4 + 50/2057*b^3 + 81/2057*b^2 + 1/17*b + 315/2057)*x1 + (-15/3146*b^5 - 4/1573*b^4 - 5/1573*b^3 - 29/1573*b^2 - 19/286*b - 576/1573)*x2 + (-61/26741*b^5 - 475/53482*b^4 - 565/26741*b^3 - 560/26741*b^2 + 37/4862*b - 15347/53482)*x3\n"
     ]
    }
   ],
   "source": [
    "## more details\n",
    "pair = is_summable2(F, x, A, c, info = True)"
   ]
  },
  {
   "cell_type": "code",
   "execution_count": 37,
   "id": "2fce8407",
   "metadata": {},
   "outputs": [
    {
     "data": {
      "text/plain": [
       "(-12/2057*b^5 - 13/2057*b^4 - 115/4114*b^3 - 205/4114*b^2 - 27/374*b + 152/2057)*x1 + (-1/1573*b^5 + 9/1573*b^4 - 49/3146*b^3 + 101/1573*b^2 - 3/143*b + 1591/3146)*x2 + (173/26741*b^5 + 16/26741*b^4 + 1164/26741*b^3 - 769/53482*b^2 + 453/4862*b + 22483/53482)*x3"
      ]
     },
     "execution_count": 37,
     "metadata": {},
     "output_type": "execute_result"
    }
   ],
   "source": [
    "P, D = transition_matrix(A)\n",
    "Q = P.inverse()\n",
    "a = D.diagonal() # D is the diagonalization of A\n",
    "f = transition_map(F, x, Q); f# f(x) = F(P*x)"
   ]
  },
  {
   "cell_type": "code",
   "execution_count": 38,
   "id": "7a029f1b",
   "metadata": {},
   "outputs": [
    {
     "data": {
      "text/plain": [
       "(True,\n",
       " (29/4114*b^5 + 47/4114*b^4 + 50/2057*b^3 + 81/2057*b^2 + 1/17*b + 315/2057)*x1 + (-15/3146*b^5 - 4/1573*b^4 - 5/1573*b^3 - 29/1573*b^2 - 19/286*b - 576/1573)*x2 + (-61/26741*b^5 - 475/53482*b^4 - 565/26741*b^3 - 560/26741*b^2 + 37/4862*b - 15347/53482)*x3)"
      ]
     },
     "execution_count": 38,
     "metadata": {},
     "output_type": "execute_result"
    }
   ],
   "source": [
    "pair = is_summable(f, x, a, c, info = False)\n",
    "g = pair[1];pair"
   ]
  },
  {
   "cell_type": "code",
   "execution_count": 39,
   "id": "d001f1e6",
   "metadata": {},
   "outputs": [
    {
     "data": {
      "text/plain": [
       "True"
      ]
     },
     "execution_count": 39,
     "metadata": {},
     "output_type": "execute_result"
    }
   ],
   "source": [
    "G = transition_map(g, x, P)\n",
    "G == pair2[1]"
   ]
  },
  {
   "cell_type": "code",
   "execution_count": null,
   "id": "64b62cd6",
   "metadata": {},
   "outputs": [],
   "source": []
  },
  {
   "cell_type": "code",
   "execution_count": null,
   "id": "937fbc2e",
   "metadata": {},
   "outputs": [],
   "source": []
  }
 ],
 "metadata": {
  "kernelspec": {
   "display_name": "SageMath 10.0",
   "language": "sage",
   "name": "SageMath-10.0"
  },
  "language_info": {
   "codemirror_mode": {
    "name": "ipython",
    "version": 3
   },
   "file_extension": ".py",
   "mimetype": "text/x-python",
   "name": "python",
   "nbconvert_exporter": "python",
   "pygments_lexer": "ipython3",
   "version": "3.11.1"
  },
  "varInspector": {
   "cols": {
    "lenName": 16,
    "lenType": 16,
    "lenVar": 40
   },
   "kernels_config": {
    "python": {
     "delete_cmd_postfix": "",
     "delete_cmd_prefix": "del ",
     "library": "var_list.py",
     "varRefreshCmd": "print(var_dic_list())"
    },
    "r": {
     "delete_cmd_postfix": ") ",
     "delete_cmd_prefix": "rm(",
     "library": "var_list.r",
     "varRefreshCmd": "cat(var_dic_list()) "
    }
   },
   "types_to_exclude": [
    "module",
    "function",
    "builtin_function_or_method",
    "instance",
    "_Feature"
   ],
   "window_display": false
  }
 },
 "nbformat": 4,
 "nbformat_minor": 5
}
