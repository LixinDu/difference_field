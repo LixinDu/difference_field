{
 "cells": [
  {
   "cell_type": "markdown",
   "id": "0d30fa40",
   "metadata": {},
   "source": [
    "## Example for Tribonacci Sequence\n",
    "\n",
    "#### The Tribonacci sequence $T_n$ satisfies a recurrence relation \n",
    "\n",
    "#### $T_{n+3} - T_{n+2}-T_{n+1}-T_n = 0$ with $T_0=0$, $T_1=1$, $T_2=1$. \n",
    "#### In this note, we shall prove that $\\sum_{n=1}^m T_n = \\frac{1}{2}(T_{m+2} + T_m - 1)$\n",
    "\n",
    "#### 1. Download the package"
   ]
  },
  {
   "cell_type": "code",
   "execution_count": null,
   "id": "e3de1903",
   "metadata": {},
   "outputs": [],
   "source": [
    "# pip install git+https://github.com/PhilippNuspl/rec_sequences.git"
   ]
  },
  {
   "cell_type": "code",
   "execution_count": 1,
   "id": "aced7cfe",
   "metadata": {},
   "outputs": [],
   "source": [
    "from rec_sequences.IntegerRelations import *"
   ]
  },
  {
   "cell_type": "code",
   "execution_count": 2,
   "id": "de65af19",
   "metadata": {},
   "outputs": [],
   "source": [
    "load('difference_field.sage')"
   ]
  },
  {
   "cell_type": "markdown",
   "id": "d64663ca",
   "metadata": {},
   "source": [
    "##### 2. Construct a difference field\n",
    "\n",
    "Let $\\mathbb{K}= \\mathbb{Q}(b)$ be the splitting field of the characteristic polynomial $t^3 - t^2 - t - 1$ of the Tribonacci sequence, where $b$ is approximate to $-0.92 - 2.26I$."
   ]
  },
  {
   "cell_type": "code",
   "execution_count": 5,
   "id": "26a22234",
   "metadata": {},
   "outputs": [
    {
     "data": {
      "text/plain": [
       "-0.9196433776070805? - 2.264603124384899?*I"
      ]
     },
     "execution_count": 5,
     "metadata": {},
     "output_type": "execute_result"
    }
   ],
   "source": [
    "#### Consider the Tribonacci sequence T(n+3)-T(n+2)-T(n+1)-T(n)=0 with T(0)=0, T(1)=1, T(2)=1.\n",
    "t = polygen(QQ, 't')\n",
    "r =t^3 - t^2 - t - 1  # characteristic polynomial of the Tribonacci sequence\n",
    "min_poly = r.splitting_field('b').defining_polynomial()\n",
    "one_root = min_poly.roots(ring=QQbar)[0][0]\n",
    "K.<b> = NumberField(min_poly, embedding=one_root) \n"
   ]
  },
  {
   "cell_type": "markdown",
   "id": "b79a2fe4",
   "metadata": {},
   "source": [
    "The difference field $(\\mathbb{K}(\\alpha,\\beta,\\gamma), \\sigma) $ is defined by \n",
    "\n",
    "$\\sigma(\\alpha,\\beta,\\gamma) = (\\alpha, \\beta,\\gamma) \\begin{pmatrix}0&0&1\\\\1&0&1\\\\0&1&1\\end{pmatrix}$, i.e., $\\sigma(\\alpha)=\\beta, \\sigma(\\beta)=\\gamma, \\sigma(\\gamma)=\\alpha+\\beta+\\gamma$.\n",
    "\n",
    "Then $T_n$, $T_{n+1}$,$T_{n+2}$ are represented by $\\alpha,\\beta,\\gamma$."
   ]
  },
  {
   "cell_type": "code",
   "execution_count": 15,
   "id": "e88d2ec0",
   "metadata": {},
   "outputs": [],
   "source": [
    "R.<alpha,beta,gamma> =  PolynomialRing(K)\n",
    "S = R.fraction_field()\n",
    "A = matrix(K, [[0,1,0],[0,0,1],[1,1,1]]).transpose()\n",
    "c = 1\n"
   ]
  },
  {
   "cell_type": "markdown",
   "id": "da4577d0",
   "metadata": {},
   "source": [
    "#### 3. Solve the summation problem in the difference field\n",
    "\n",
    "The summand $T_n$ is represented by $F = \\alpha$.\n",
    "\n",
    "Find $G\\in \\mathbb{K}(\\alpha,\\beta,\\gamma)$ such that $F = \\sigma(G) - G$."
   ]
  },
  {
   "cell_type": "code",
   "execution_count": 16,
   "id": "bd339410",
   "metadata": {},
   "outputs": [
    {
     "data": {
      "text/plain": [
       "(True, -1/2*alpha + 1/2*gamma)"
      ]
     },
     "execution_count": 16,
     "metadata": {},
     "output_type": "execute_result"
    }
   ],
   "source": [
    "F = alpha\n",
    "pair2 = is_summable2(F, [alpha,beta,gamma], A, c); pair2"
   ]
  },
  {
   "cell_type": "markdown",
   "id": "c8b0092f",
   "metadata": {},
   "source": [
    "Verify that $F = \\sigma(G) - G$, where $G = -\\frac{1}{2}\\alpha+\\frac{1}{2}\\gamma$."
   ]
  },
  {
   "cell_type": "code",
   "execution_count": 8,
   "id": "d026ff48",
   "metadata": {},
   "outputs": [
    {
     "data": {
      "text/plain": [
       "True"
      ]
     },
     "execution_count": 8,
     "metadata": {},
     "output_type": "execute_result"
    }
   ],
   "source": [
    "G = pair2[1]\n",
    "F == c*sigma(G, [alpha,beta,gamma], A) - G"
   ]
  },
  {
   "cell_type": "markdown",
   "id": "8763837c",
   "metadata": {},
   "source": [
    "#### 4. Prove the identity $\\sum_{n=1}^m T_n = \\frac{1}{2}(T_{m+2} + T_m - 1)$\n",
    "\n",
    "The element $G = -\\frac{1}{2}\\alpha+\\frac{1}{2}\\gamma$ corresponds to the sequence $G_n =-\\frac{1}{2}T_n+\\frac{1}{2}T_{n+2}$.\n",
    "\n",
    "By is_summable2, $\\alpha=\\sigma(G) - G$, so $T_n = G_{n+1} - G_n$,\n",
    "\n",
    "Then $\\sum_{n=1}^m T_n = \\sum_{n=1}^m G_{n+1} - G_n = G_{m+1} - G_1$.\n",
    "\n",
    "Since $G_{m+1} = -\\frac{1}{2}T_{m+1} + \\frac{1}{2}T_{n+3} = -\\frac{1}{2}T_{m+1} + \\frac{1}{2}(T_{m+2} + T_{m+1} + T_{m}) = \\frac{1}{2}(T_{m+2} + \\frac{1}{2}T_{m})$,\n",
    "\n",
    "we have $\\sum_{n=1}^m T_n = G_{m+1} - G_1 =  \\frac{1}{2} (T_{m+2} + T_{m} - 1)$.\n",
    "\n",
    "\n"
   ]
  },
  {
   "cell_type": "markdown",
   "id": "dee1bdb8",
   "metadata": {},
   "source": [
    "#### 5. More details"
   ]
  },
  {
   "cell_type": "code",
   "execution_count": 17,
   "id": "58a3f7cc",
   "metadata": {},
   "outputs": [
    {
     "name": "stdout",
     "output_type": "stream",
     "text": [
      "Difference isomorphism defined by:\n",
      "[            -12/2057*b^5 - 13/2057*b^4 - 115/4114*b^3 - 205/4114*b^2 - 27/374*b + 152/2057                -1/1573*b^5 + 9/1573*b^4 - 49/3146*b^3 + 101/1573*b^2 - 3/143*b + 1591/3146   173/26741*b^5 + 16/26741*b^4 + 1164/26741*b^3 - 769/53482*b^2 + 453/4862*b + 22483/53482]\n",
      "[               19/4114*b^5 + 5/4114*b^4 + 65/2057*b^3 + 124/2057*b^2 + 16/187*b + 819/4114               19/3146*b^5 - 14/1573*b^4 + 54/1573*b^3 - 173/1573*b^2 + 31/286*b - 457/3146 -285/26741*b^5 + 411/53482*b^4 - 1763/26741*b^3 + 1329/26741*b^2 - 943/4862*b - 1439/26741]\n",
      "[                           1/121*b^5 + 2/121*b^4 + 5/242*b^3 + 7/242*b^2 + 1/22*b + 46/121                  -16/1573*b^5 + 1/1573*b^4 - 69/3146*b^3 + 43/1573*b^2 - 2/13*b - 713/3146                 3/1573*b^5 - 27/1573*b^4 + 2/1573*b^3 - 177/3146*b^2 + 31/286*b - 483/3146]\n",
      "Diagonal of Jordan normal form of the input matrix:\n",
      "[7/187*b^5 + 9/187*b^4 + 30/187*b^3 + 52/187*b^2 + 76/187*b + 376/187, -1/143*b^5 - 4/143*b^4 + 8/143*b^3 - 42/143*b^2 - 7/143*b - 108/143, -74/2431*b^5 - 49/2431*b^4 - 526/2431*b^3 + 38/2431*b^2 - 79/221*b - 621/2431]\n",
      "After the difference isomorphism, consider the summability of \n",
      "(-12/2057*b^5 - 13/2057*b^4 - 115/4114*b^3 - 205/4114*b^2 - 27/374*b + 152/2057)*alpha + (-1/1573*b^5 + 9/1573*b^4 - 49/3146*b^3 + 101/1573*b^2 - 3/143*b + 1591/3146)*beta + (173/26741*b^5 + 16/26741*b^4 + 1164/26741*b^3 - 769/53482*b^2 + 453/4862*b + 22483/53482)*gamma\n",
      " Summbale with a certificate:\n",
      "(29/4114*b^5 + 47/4114*b^4 + 50/2057*b^3 + 81/2057*b^2 + 1/17*b + 315/2057)*alpha + (-15/3146*b^5 - 4/1573*b^4 - 5/1573*b^3 - 29/1573*b^2 - 19/286*b - 576/1573)*beta + (-61/26741*b^5 - 475/53482*b^4 - 565/26741*b^3 - 560/26741*b^2 + 37/4862*b - 15347/53482)*gamma\n"
     ]
    }
   ],
   "source": [
    "pair = is_summable2(F, [alpha,beta,gamma], A, c, info = True)"
   ]
  },
  {
   "cell_type": "markdown",
   "id": "e1ca0980",
   "metadata": {},
   "source": [
    "5.1 Let $(\\mathbb{K}(\\alpha,\\beta,\\gamma),\\tau)$ be another difference field, where $\\tau(\\alpha, \\beta,\\gamma) = (\\alpha, \\beta,\\gamma) \\text{diag}(\\lambda_1,\\lambda_2,\n",
    "\\lambda_3)$.\n",
    "\n",
    "A difference isomorphism from $(\\mathbb{K}(\\alpha,\\beta,\\gamma),\\sigma)$ to $(\\mathbb{K}(\\alpha,\\beta,\\gamma),\\tau)$ is given by\n",
    "\n",
    "$(\\alpha, \\beta,\\gamma)\\to (\\alpha, \\beta,\\gamma) Q$, where $Q$ is a matrix, see the following code.\n",
    "\n",
    "Then $F(\\alpha,\\beta,\\gamma)$ is $\\sigma$-summable if and only if $F((\\alpha,\\beta,\\gamma)Q)$ is $\\tau$-summable, \n",
    "\n",
    "where $\\sigma(F(\\alpha,\\beta,\\gamma)) = F((\\alpha,\\beta,\\gamma)A)$ and $\\tau(f(\\alpha,\\beta,\\gamma)) = f((\\alpha,\\beta,\\gamma)\\Lambda)$ \n"
   ]
  },
  {
   "cell_type": "code",
   "execution_count": 10,
   "id": "2fce8407",
   "metadata": {},
   "outputs": [
    {
     "data": {
      "text/plain": [
       "(-12/2057*b^5 - 13/2057*b^4 - 115/4114*b^3 - 205/4114*b^2 - 27/374*b + 152/2057)*alpha + (-1/1573*b^5 + 9/1573*b^4 - 49/3146*b^3 + 101/1573*b^2 - 3/143*b + 1591/3146)*beta + (173/26741*b^5 + 16/26741*b^4 + 1164/26741*b^3 - 769/53482*b^2 + 453/4862*b + 22483/53482)*gamma"
      ]
     },
     "execution_count": 10,
     "metadata": {},
     "output_type": "execute_result"
    }
   ],
   "source": [
    "P, D = transition_matrix(A)\n",
    "Q = P.inverse()\n",
    "a = D.diagonal() # D is the diagonalization of A\n",
    "f = transition_map(F, [alpha,beta,gamma], Q); f# f(x) = F(P*x)"
   ]
  },
  {
   "cell_type": "markdown",
   "id": "586d60af",
   "metadata": {},
   "source": [
    "5.2 Let $F(\\alpha,\\beta,\\gamma) =\\alpha$ and $f(\\alpha,\\beta,\\gamma) = F((\\alpha,\\beta,\\gamma)Q)$.\n",
    "\n",
    "Find $g\\in \\mathbb{K}(\\alpha,\\beta,\\gamma)$ such that $f=\\tau(g)-g$."
   ]
  },
  {
   "cell_type": "code",
   "execution_count": 11,
   "id": "7a029f1b",
   "metadata": {},
   "outputs": [
    {
     "data": {
      "text/plain": [
       "(True,\n",
       " (29/4114*b^5 + 47/4114*b^4 + 50/2057*b^3 + 81/2057*b^2 + 1/17*b + 315/2057)*alpha + (-15/3146*b^5 - 4/1573*b^4 - 5/1573*b^3 - 29/1573*b^2 - 19/286*b - 576/1573)*beta + (-61/26741*b^5 - 475/53482*b^4 - 565/26741*b^3 - 560/26741*b^2 + 37/4862*b - 15347/53482)*gamma)"
      ]
     },
     "execution_count": 11,
     "metadata": {},
     "output_type": "execute_result"
    }
   ],
   "source": [
    "pair = is_summable(f, [alpha,beta,gamma], a, c, info = False)\n",
    "g = pair[1];pair"
   ]
  },
  {
   "cell_type": "markdown",
   "id": "ccf43b5b",
   "metadata": {},
   "source": [
    "Then $G(\\alpha,\\beta,\\gamma) = g((\\alpha,\\beta,\\gamma)Q^{-1})$ satisfies $F=\\sigma(G)-G$"
   ]
  },
  {
   "cell_type": "code",
   "execution_count": 12,
   "id": "d001f1e6",
   "metadata": {},
   "outputs": [
    {
     "data": {
      "text/plain": [
       "True"
      ]
     },
     "execution_count": 12,
     "metadata": {},
     "output_type": "execute_result"
    }
   ],
   "source": [
    "G = transition_map(g, [alpha,beta,gamma], P)\n",
    "G == pair2[1]"
   ]
  },
  {
   "cell_type": "code",
   "execution_count": null,
   "id": "64b62cd6",
   "metadata": {},
   "outputs": [],
   "source": []
  },
  {
   "cell_type": "code",
   "execution_count": null,
   "id": "937fbc2e",
   "metadata": {},
   "outputs": [],
   "source": []
  }
 ],
 "metadata": {
  "kernelspec": {
   "display_name": "SageMath 10.0",
   "language": "sage",
   "name": "SageMath-10.0"
  },
  "language_info": {
   "codemirror_mode": {
    "name": "ipython",
    "version": 3
   },
   "file_extension": ".py",
   "mimetype": "text/x-python",
   "name": "python",
   "nbconvert_exporter": "python",
   "pygments_lexer": "ipython3",
   "version": "3.11.1"
  },
  "varInspector": {
   "cols": {
    "lenName": 16,
    "lenType": 16,
    "lenVar": 40
   },
   "kernels_config": {
    "python": {
     "delete_cmd_postfix": "",
     "delete_cmd_prefix": "del ",
     "library": "var_list.py",
     "varRefreshCmd": "print(var_dic_list())"
    },
    "r": {
     "delete_cmd_postfix": ") ",
     "delete_cmd_prefix": "rm(",
     "library": "var_list.r",
     "varRefreshCmd": "cat(var_dic_list()) "
    }
   },
   "types_to_exclude": [
    "module",
    "function",
    "builtin_function_or_method",
    "instance",
    "_Feature"
   ],
   "window_display": false
  }
 },
 "nbformat": 4,
 "nbformat_minor": 5
}
