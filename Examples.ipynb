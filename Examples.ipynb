{
 "cells": [
  {
   "cell_type": "code",
   "execution_count": 2,
   "id": "12f99376",
   "metadata": {},
   "outputs": [],
   "source": [
    "# pip install --upgrade pip\n",
    "# pip install git+https://github.com/PhilippNuspl/rec_sequences.git"
   ]
  },
  {
   "cell_type": "code",
   "execution_count": 3,
   "id": "aced7cfe",
   "metadata": {},
   "outputs": [],
   "source": [
    "from rec_sequences.IntegerRelations import *"
   ]
  },
  {
   "cell_type": "code",
   "execution_count": 4,
   "id": "de65af19",
   "metadata": {},
   "outputs": [],
   "source": [
    "load('difference_field.sage')"
   ]
  },
  {
   "cell_type": "code",
   "execution_count": 5,
   "id": "73f20fcc",
   "metadata": {},
   "outputs": [
    {
     "name": "stdout",
     "output_type": "stream",
     "text": [
      "x= [x1, x2, x3] a= [-1, 1/2, -4] c= 1\n",
      "integer_relation: \n",
      " [1 2 1]\n",
      "[0 4 2]\n"
     ]
    }
   ],
   "source": [
    "#### test for trivariate rational functions: summable case\n",
    "## define the rational function field S = QQ(x1,x2,x3)\n",
    "R.<x1,x2> = PolynomialRing(QQ)\n",
    "T = R.fraction_field()['x3']\n",
    "x3 = T.gen()\n",
    "x = [*list(R.gens()),T.gen()]\n",
    "S = T.fraction_field()\n",
    "#h = S.random_element(3, 3)\n",
    "a = [-1,1/2,-4]\n",
    "c = 1\n",
    "print(\"x=\", x, \"a=\", a, \"c=\",c)\n",
    "rel = IntegerRelations.integer_relations(a)\n",
    "print(\"integer_relation: \\n\", rel)"
   ]
  },
  {
   "cell_type": "code",
   "execution_count": 6,
   "id": "f3181634",
   "metadata": {},
   "outputs": [
    {
     "name": "stdout",
     "output_type": "stream",
     "text": [
      "\n",
      "consider the tau-summability of  x1/x3\n",
      "(True, (-4/3*x1)/x3)\n",
      "True\n",
      "\n",
      "consider the tau-summability of  x1^2\n",
      "False\n"
     ]
    }
   ],
   "source": [
    "#### consider the tau-summability of rational functions in QQ(x1,x2,x3), where tau(f(x1,x2,x3))=f(-x1,1/2*x2,-4*x3)\n",
    "## for f1 = x1/x3 + x1^2\n",
    "f1 = [x1/x3,x1^2]\n",
    "for h in f1:\n",
    "    print(\"\\nconsider the tau-summability of \", h)\n",
    "    pair = is_summable(h, x, a, c)\n",
    "    print(pair)\n",
    "    if pair != False:\n",
    "        g2 = pair[1]\n",
    "        print(h == c * sigma(g2, x, a) - g2)"
   ]
  },
  {
   "cell_type": "code",
   "execution_count": 8,
   "id": "6401d5e9",
   "metadata": {},
   "outputs": [
    {
     "name": "stdout",
     "output_type": "stream",
     "text": [
      "The irreducible partial fraction decomposition is \n",
      " (0, [(-x2 + 1)/(x3 + x1), (-1/8*x2)/(x3 + 1/4*x1)]) \n",
      "\n",
      "The orbital partial fraction decomposition is \n",
      " [0, {x1 + x3: [[0, -x2 + 1, 1], [1, 1/2*x2, 1]]}] \n",
      "\n",
      "The isotropy group of the representative is\n",
      "  {x1 + x3: [0, 1]} \n",
      "\n",
      "g2 =  x2/(x1 + x3)\n",
      "r2 =  [[x1 + x3, 1, 1]]\n"
     ]
    }
   ],
   "source": [
    "## for f2 = (-x2 + 1)/(x3 + x1) + (-1/8*x2)/(x3 + 1/4*x1)\n",
    "d2 = x1+x3\n",
    "h2 = x2/d2\n",
    "f2 = S(c * sigma(h2, x, a) - h2) + 1/d2\n",
    "print(\"The irreducible partial fraction decomposition is \\n\",f2.partial_fraction_decomposition(),\"\\n\")\n",
    "L2, Gp2 = orbital_partial_fraction(f2, x3, x, a, group = True); \n",
    "print(\"The orbital partial fraction decomposition is \\n\", L2,\"\\n\")\n",
    "print(\"The isotropy group of the representative is\\n \", Gp2, \"\\n\")\n",
    "g2, r2_list =reduction(L2[1], x, a, c)\n",
    "print(\"g2 = \", g2)\n",
    "print(\"r2 = \",r2_list)"
   ]
  },
  {
   "cell_type": "code",
   "execution_count": 9,
   "id": "9b618ca5",
   "metadata": {},
   "outputs": [
    {
     "name": "stdout",
     "output_type": "stream",
     "text": [
      "([1, 0], [-4, 1])\n",
      "True\n",
      "True\n"
     ]
    }
   ],
   "source": [
    "P.<x1,x2,x3> = PolynomialRing(QQ) \n",
    "p2 = P(x3 + x1)\n",
    "q2 = P(x3 + 1/4*x1)\n",
    "sol = spread(p2,q2,x,a,constant=True)\n",
    "print(sol)\n",
    "[k,j],[c1,c2] = sol\n",
    "print(tau(p2,x,a,k) == c1*q2)\n",
    "print(tau(p2,x,a,j) == c2*p2)"
   ]
  },
  {
   "cell_type": "code",
   "execution_count": 10,
   "id": "dae67d83",
   "metadata": {},
   "outputs": [
    {
     "data": {
      "text/plain": [
       "0"
      ]
     },
     "execution_count": 10,
     "metadata": {},
     "output_type": "execute_result"
    }
   ],
   "source": [
    "isotropy_group(P(d2),x,a)"
   ]
  },
  {
   "cell_type": "code",
   "execution_count": 11,
   "id": "2e5a540a",
   "metadata": {},
   "outputs": [
    {
     "name": "stdout",
     "output_type": "stream",
     "text": [
      "(True, (8/5*x2^4*x3 + 4/3*x2^2)/(-16*x2^4*x3^2 + 4))\n",
      "True\n"
     ]
    }
   ],
   "source": [
    "## for f3= 1/4*x2^2/(2*x2^2*x3-1)\n",
    "d3 = (2*x2^2*x3-1)\n",
    "f3 = 1/4*x2^2/d3\n",
    "pair = is_summable(f3, x, a, c)\n",
    "print(pair)\n",
    "g3 = pair[1]\n",
    "print(f3 == c * sigma(g3, x, a) - g3)"
   ]
  },
  {
   "cell_type": "code",
   "execution_count": 12,
   "id": "d30b1a40",
   "metadata": {},
   "outputs": [
    {
     "data": {
      "text/plain": [
       "([3, 0], [-1, 1])"
      ]
     },
     "execution_count": 12,
     "metadata": {},
     "output_type": "execute_result"
    }
   ],
   "source": [
    "#### consider the spread of two polynomials in QQ[x1,x2,x3]\n",
    "p =  x2^2*x3 + x2*x3 + 1\n",
    "q =  x2^2*x3 + 8*x2*x3 -1\n",
    "spread(p,q,x,a,constant=True)"
   ]
  },
  {
   "cell_type": "code",
   "execution_count": 13,
   "id": "80bbf474",
   "metadata": {},
   "outputs": [
    {
     "data": {
      "text/plain": [
       "([1, 2], [-1, 1])"
      ]
     },
     "execution_count": 13,
     "metadata": {},
     "output_type": "execute_result"
    }
   ],
   "source": [
    "p1 = 2*x2^2*x3+1\n",
    "q1 = 2*x2^2*x3-1\n",
    "spread(p1,q1,x,a,constant=True)"
   ]
  },
  {
   "cell_type": "code",
   "execution_count": 19,
   "id": "379ea484",
   "metadata": {},
   "outputs": [
    {
     "data": {
      "text/plain": [
       "([3, 0], [-1, 1])"
      ]
     },
     "execution_count": 19,
     "metadata": {},
     "output_type": "execute_result"
    }
   ],
   "source": [
    "p2 = x2^2*x3  + x2*x3\n",
    "q2 = x2^2*x3 + 8*x2*x3\n",
    "spread(p2,q2,x,a,constant=True)"
   ]
  },
  {
   "cell_type": "code",
   "execution_count": null,
   "id": "d0fbb1bc",
   "metadata": {},
   "outputs": [],
   "source": []
  }
 ],
 "metadata": {
  "kernelspec": {
   "display_name": "SageMath 10.0",
   "language": "sage",
   "name": "SageMath-10.0"
  },
  "language_info": {
   "codemirror_mode": {
    "name": "ipython",
    "version": 3
   },
   "file_extension": ".py",
   "mimetype": "text/x-python",
   "name": "python",
   "nbconvert_exporter": "python",
   "pygments_lexer": "ipython3",
   "version": "3.11.1"
  },
  "varInspector": {
   "cols": {
    "lenName": 16,
    "lenType": 16,
    "lenVar": 40
   },
   "kernels_config": {
    "python": {
     "delete_cmd_postfix": "",
     "delete_cmd_prefix": "del ",
     "library": "var_list.py",
     "varRefreshCmd": "print(var_dic_list())"
    },
    "r": {
     "delete_cmd_postfix": ") ",
     "delete_cmd_prefix": "rm(",
     "library": "var_list.r",
     "varRefreshCmd": "cat(var_dic_list()) "
    }
   },
   "types_to_exclude": [
    "module",
    "function",
    "builtin_function_or_method",
    "instance",
    "_Feature"
   ],
   "window_display": false
  }
 },
 "nbformat": 4,
 "nbformat_minor": 5
}
